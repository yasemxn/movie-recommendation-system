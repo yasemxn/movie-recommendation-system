{
  "nbformat": 4,
  "nbformat_minor": 0,
  "metadata": {
    "colab": {
      "provenance": [],
      "toc_visible": true
    },
    "kernelspec": {
      "name": "python3",
      "display_name": "Python 3"
    },
    "language_info": {
      "name": "python"
    }
  },
  "cells": [
    {
      "cell_type": "markdown",
      "metadata": {
        "id": "BmHwVNwrEfvo"
      },
      "source": [
        "#**Introduction**\n",
        "\n",
        "---"
      ]
    },
    {
      "cell_type": "markdown",
      "metadata": {
        "id": "xsCqZyI-EXWF"
      },
      "source": [
        "**Assessment Title: Movie Recommendation System using IMDB dataset**\n",
        "\n",
        "*Department of Computing, University of Bournemouth* | *Data Science and Artificial Intelligence*\n",
        "\n",
        "Yasemin Karaca\n",
        "\n",
        "\n",
        "---"
      ]
    },
    {
      "cell_type": "markdown",
      "metadata": {
        "id": "ynJswl6fEpZE"
      },
      "source": [
        "The increasing growth of the film industry, alongside the extensive availability of streaming\n",
        "platforms, has made it challenging for users to discover movies that fit their preferences. To\n",
        "improve user experience and engagement, a movie recommendation system is\n",
        "developed utilising the IMDB dataset.\n",
        "\n",
        "\n",
        "***Dataset Description:***\n",
        "The dataset consists of two CSV files: movies.csv and rating.csv. The movies.csv file contains\n",
        "movie information such as movieId, title, and genres. The rating.csv file contains user ratings\n",
        "for movies, including userId, movieId, rating, and timestamp."
      ]
    },
    {
      "cell_type": "markdown",
      "source": [
        "##**Install and import libraries**\n"
      ],
      "metadata": {
        "id": "DR6DtyrZaoAt"
      }
    },
    {
      "cell_type": "code",
      "execution_count": null,
      "metadata": {
        "colab": {
          "base_uri": "https://localhost:8080/"
        },
        "id": "_xNkJ8zFaHEg",
        "outputId": "093d3bf0-b1c9-41e1-89aa-89108463f656"
      },
      "outputs": [
        {
          "output_type": "stream",
          "name": "stdout",
          "text": [
            "Collecting surprise\n",
            "  Downloading surprise-0.1-py2.py3-none-any.whl (1.8 kB)\n",
            "Collecting scikit-surprise (from surprise)\n",
            "  Downloading scikit-surprise-1.1.3.tar.gz (771 kB)\n",
            "\u001b[2K     \u001b[90m━━━━━━━━━━━━━━━━━━━━━━━━━━━━━━━━━━━━━━━━\u001b[0m \u001b[32m772.0/772.0 kB\u001b[0m \u001b[31m5.7 MB/s\u001b[0m eta \u001b[36m0:00:00\u001b[0m\n",
            "\u001b[?25h  Preparing metadata (setup.py) ... \u001b[?25l\u001b[?25hdone\n",
            "Requirement already satisfied: joblib>=1.0.0 in /usr/local/lib/python3.10/dist-packages (from scikit-surprise->surprise) (1.4.2)\n",
            "Requirement already satisfied: numpy>=1.17.3 in /usr/local/lib/python3.10/dist-packages (from scikit-surprise->surprise) (1.25.2)\n",
            "Requirement already satisfied: scipy>=1.3.2 in /usr/local/lib/python3.10/dist-packages (from scikit-surprise->surprise) (1.11.4)\n",
            "Building wheels for collected packages: scikit-surprise\n",
            "  Building wheel for scikit-surprise (setup.py) ... \u001b[?25l\u001b[?25hdone\n",
            "  Created wheel for scikit-surprise: filename=scikit_surprise-1.1.3-cp310-cp310-linux_x86_64.whl size=3163003 sha256=476c2a1e036fde216bac56da8b40f973183b793529653145310bcb6ecac912df\n",
            "  Stored in directory: /root/.cache/pip/wheels/a5/ca/a8/4e28def53797fdc4363ca4af740db15a9c2f1595ebc51fb445\n",
            "Successfully built scikit-surprise\n",
            "Installing collected packages: scikit-surprise, surprise\n",
            "Successfully installed scikit-surprise-1.1.3 surprise-0.1\n"
          ]
        }
      ],
      "source": [
        "pip install surprise"
      ]
    },
    {
      "cell_type": "code",
      "source": [
        "import pandas as pd\n",
        "import numpy as np\n",
        "import matplotlib.pyplot as plt\n",
        "import tensorflow\n",
        "import seaborn as sns\n",
        "\n",
        "from sklearn.metrics.pairwise import cosine_similarity, linear_kernel\n",
        "from sklearn.neighbors import NearestNeighbors\n",
        "from sklearn.metrics import mean_squared_error, mean_absolute_error, accuracy_score, precision_score, recall_score, f1_score\n",
        "from sklearn.preprocessing import MultiLabelBinarizer, LabelEncoder\n",
        "from sklearn.model_selection import train_test_split\n",
        "from sklearn.feature_extraction.text import TfidfVectorizer\n",
        "\n",
        "from math import sqrt\n",
        "from collections import defaultdict\n",
        "from scipy.linalg import svd\n",
        "\n",
        "from surprise import Dataset, Reader, SVD, accuracy\n",
        "from surprise.model_selection import train_test_split as surprise_train_test_split\n",
        "\n",
        "from tensorflow.keras.models import Model\n",
        "from tensorflow.keras.layers import Input, Embedding, Flatten, Dense, Concatenate, SimpleRNN\n",
        "from tensorflow.keras.optimizers import Adam\n",
        "\n",
        "from sklearn.metrics import confusion_matrix\n",
        "from sklearn.tree import DecisionTreeClassifier\n",
        "from sklearn.metrics import classification_report\n",
        "\n"
      ],
      "metadata": {
        "id": "bsD_auNWat9e"
      },
      "execution_count": null,
      "outputs": []
    },
    {
      "cell_type": "markdown",
      "source": [
        "## **Setup and Functions**"
      ],
      "metadata": {
        "id": "bOYsUwU4weQu"
      }
    },
    {
      "cell_type": "code",
      "source": [
        "def load_data():\n",
        "    ratings = pd.read_csv('ratings.csv')\n",
        "    movies = pd.read_csv('movies.csv')\n",
        "    return ratings, movies"
      ],
      "metadata": {
        "id": "L5arDy8kW_un"
      },
      "execution_count": null,
      "outputs": []
    },
    {
      "cell_type": "code",
      "source": [
        "def create_matrices(ratings, movies):\n",
        "    merged_df = pd.merge(ratings, movies, on='movieId')\n",
        "    user_item_matrix = merged_df.pivot_table(index='userId', columns='title', values='rating', fill_value=0)\n",
        "    cosine_sim = cosine_similarity(user_item_matrix.T)\n",
        "    return user_item_matrix, cosine_sim"
      ],
      "metadata": {
        "id": "Q4hmKLvrXBpW"
      },
      "execution_count": null,
      "outputs": []
    },
    {
      "cell_type": "code",
      "source": [
        "def get_user_ratings(user_item_matrix, user_id):\n",
        "    user_ratings = user_item_matrix.loc[user_id]\n",
        "    rated_movies = user_ratings[user_ratings > 0].index.tolist()\n",
        "    return user_ratings, rated_movies"
      ],
      "metadata": {
        "id": "imf98-PUXDAl"
      },
      "execution_count": null,
      "outputs": []
    },
    {
      "cell_type": "code",
      "source": [
        "def get_movie_index(user_item_matrix, movie_title):\n",
        "    return user_item_matrix.columns.get_loc(movie_title) if movie_title in user_item_matrix.columns else -1"
      ],
      "metadata": {
        "id": "4gb3p_p8XExV"
      },
      "execution_count": null,
      "outputs": []
    },
    {
      "cell_type": "code",
      "source": [
        "def calculate_metrics(actual_ratings, predicted_ratings):\n",
        "\n",
        "    filtered_ratings = [(actual, predicted) for actual, predicted in zip(actual_ratings, predicted_ratings) if predicted is not None]\n",
        "    if not filtered_ratings:\n",
        "        return float('nan'), float('nan')\n",
        "\n",
        "    actuals, estimates = zip(*filtered_ratings)\n",
        "    rmse = sqrt(mean_squared_error(actuals, estimates))\n",
        "    mae = mean_absolute_error(actuals, estimates)\n",
        "    return rmse, mae"
      ],
      "metadata": {
        "id": "Kd1aPccWyBNg"
      },
      "execution_count": null,
      "outputs": []
    },
    {
      "cell_type": "code",
      "source": [
        "def calculate_classification_metrics(actuals, predictions, threshold=3.5):\n",
        "    actual_classes = [1 if x > threshold else 0 for x in actuals]\n",
        "    predicted_classes = [1 if x > threshold else 0 for x in predictions]\n",
        "\n",
        "    tp = sum((ac == 1) and (pc == 1) for ac, pc in zip(actual_classes, predicted_classes))\n",
        "    tn = sum((ac == 0) and (pc == 0) for ac, pc in zip(actual_classes, predicted_classes))\n",
        "    fp = sum((ac == 0) and (pc == 1) for ac, pc in zip(actual_classes, predicted_classes))\n",
        "    fn = sum((ac == 1) and (pc == 0) for ac, pc in zip(actual_classes, predicted_classes))\n",
        "\n",
        "    precision = tp / (tp + fp) if (tp + fp) > 0 else 0\n",
        "    recall = tp / (tp + fn) if (tp + fn) > 0 else 0\n",
        "    f1 = 2 * (precision * recall) / (precision + recall) if (precision + recall) > 0 else 0\n",
        "\n",
        "    return {\"Precision\": precision, \"Recall\": recall, \"F1-Score\": f1}\n"
      ],
      "metadata": {
        "id": "RhcH_Rtp_Y_m"
      },
      "execution_count": null,
      "outputs": []
    },
    {
      "cell_type": "markdown",
      "source": [
        "# **Collaborative Filtering**\n",
        "\n",
        "---"
      ],
      "metadata": {
        "id": "cSPB1UzjN46u"
      }
    },
    {
      "cell_type": "markdown",
      "source": [
        "## **Cosine Similarity**"
      ],
      "metadata": {
        "id": "9malRSwCwhyf"
      }
    },
    {
      "cell_type": "code",
      "source": [
        "def recommend_movies_cosine(user_item_matrix, cosine_sim, user_id, movie_title, k=10):\n",
        "    movie_idx = get_movie_index(user_item_matrix, movie_title) # get the index of the movie in the user item matrix\n",
        "    similar_movies = sorted(list(enumerate(cosine_sim[movie_idx])), key=lambda x: x[1], reverse=True)\n",
        "    # sort movies based on their cosine similarity with the target movie\n",
        "    recommendations = [(user_item_matrix.columns[i], score) for i, score in similar_movies[1:k+1]]\n",
        "\n",
        "    user_ratings = user_item_matrix.loc[user_id]\n",
        "    predictions = [] # predicting ratings for recommended movies\n",
        "    for movie, score in recommendations:\n",
        "        similar_user_ratings = user_item_matrix[movie] # get ratings of users who rated the recommended movie\n",
        "        if (similar_user_ratings != 0).sum() > 0:\n",
        "            weighted_ratings = similar_user_ratings * score  # calculate predicted rating using weighted average of similar user's ratings\n",
        "            predicted_rating = weighted_ratings.sum() / (score * (similar_user_ratings != 0).sum())\n",
        "        else:\n",
        "            predicted_rating = user_ratings.mean()  # if no similar users have rated the movie, predict the average rating of the user\n",
        "        predictions.append((movie, predicted_rating, score))\n",
        "    return predictions\n"
      ],
      "metadata": {
        "id": "ZMcJHRrX8ahv"
      },
      "execution_count": null,
      "outputs": []
    },
    {
      "cell_type": "code",
      "source": [
        "ratings, movies = load_data()\n",
        "user_item_matrix, cosine_sim = create_matrices(ratings, movies)\n",
        "\n",
        "# example usage\n",
        "movie_title = 'Finding Nemo (2003)'\n",
        "user_id = 66\n",
        "\n",
        "predictions = recommend_movies_cosine(user_item_matrix, cosine_sim, user_id, movie_title) # fetching predictions\n",
        "\n",
        "if predictions:  # analysing predictions\n",
        "    print(\"Predicted ratings and similarity scores for recommended movies:\")\n",
        "    for movie, predicted_rating, score in predictions:\n",
        "       print(f\"{movie}: Predicted Rating = {predicted_rating:.4f}, Similarity Score = {score:.4f}\")\n",
        "\n",
        "    # comparison of actual and predicted ratings\n",
        "    actual_ratings = []\n",
        "    predicted_ratings = []\n",
        "    similarity_scores = []\n",
        "    for movie, predicted_rating, similarity_score in predictions:\n",
        "        if user_item_matrix.at[user_id, movie] > 0:  # Checking if the user has rated the movie\n",
        "            actual_ratings.append(user_item_matrix.at[user_id, movie])\n",
        "            predicted_ratings.append(predicted_rating)\n",
        "            similarity_scores.append(similarity_score)\n",
        "\n",
        "    # calculation of metrics\n",
        "    if actual_ratings:\n",
        "        rmse, mae = calculate_metrics(actual_ratings, predicted_ratings)\n",
        "        print(f\"RMSE: {rmse:.4f}, MAE: {mae:.4f}\")\n",
        "\n",
        "        metrics = calculate_classification_metrics(actual_ratings, predicted_ratings)\n",
        "        print(f\"Precision: {metrics['Precision']:.4f}\")\n",
        "        print(f\"Recall: {metrics['Recall']:.4f}\")\n",
        "        print(f\"F1-Score: {metrics['F1-Score']:.4f}\")\n",
        "\n",
        "        # create plot\n",
        "        plt.figure(figsize=(10, 6))\n",
        "        plt.scatter(similarity_scores, predicted_ratings, color='blue', label='Predicted Ratings')\n",
        "        for i, actual_rating in enumerate(actual_ratings):\n",
        "            plt.scatter(similarity_scores[i], actual_rating, color='red', marker='x', label='Actual Rating' if i == 0 else \"\")\n",
        "\n",
        "        plt.title('Predicted Ratings vs. Similarity Scores')\n",
        "        plt.xlabel('Similarity Score')\n",
        "        plt.ylabel('Predicted Rating')\n",
        "        plt.legend()\n",
        "        plt.grid(True)\n",
        "        plt.show()"
      ],
      "metadata": {
        "colab": {
          "base_uri": "https://localhost:8080/",
          "height": 824
        },
        "id": "-pXfaRqtoZkE",
        "outputId": "1cb3f717-76af-4187-c760-83b20b0cfe39"
      },
      "execution_count": null,
      "outputs": [
        {
          "output_type": "stream",
          "name": "stdout",
          "text": [
            "Predicted ratings and similarity scores for recommended movies:\n",
            "Incredibles, The (2004): Predicted Rating = 3.8360, Similarity Score = 0.7264\n",
            "Shrek (2001): Predicted Rating = 3.8676, Similarity Score = 0.7014\n",
            "Monsters, Inc. (2001): Predicted Rating = 3.8712, Similarity Score = 0.6973\n",
            "Pirates of the Caribbean: The Curse of the Black Pearl (2003): Predicted Rating = 3.7785, Similarity Score = 0.6523\n",
            "Shrek 2 (2004): Predicted Rating = 3.5761, Similarity Score = 0.6251\n",
            "Catch Me If You Can (2002): Predicted Rating = 3.9217, Similarity Score = 0.5942\n",
            "Lord of the Rings: The Return of the King, The (2003): Predicted Rating = 4.1189, Similarity Score = 0.5873\n",
            "Lord of the Rings: The Two Towers, The (2002): Predicted Rating = 4.0213, Similarity Score = 0.5681\n",
            "Harry Potter and the Prisoner of Azkaban (2004): Predicted Rating = 3.9140, Similarity Score = 0.5603\n",
            "Ocean's Eleven (2001): Predicted Rating = 3.8445, Similarity Score = 0.5568\n",
            "RMSE: 0.7901, MAE: 0.7125\n",
            "Precision: 0.8571\n",
            "Recall: 1.0000\n",
            "F1-Score: 0.9231\n"
          ]
        },
        {
          "output_type": "display_data",
          "data": {
            "text/plain": [
              "<Figure size 1000x600 with 1 Axes>"
            ],
            "image/png": "[encoded data removed]"
          },
          "metadata": {}
        }
      ]
    },
    {
      "cell_type": "markdown",
      "source": [
        "## **Singular Value Decomposition (SVD)**"
      ],
      "metadata": {
        "id": "hS2pyRIRwkwM"
      }
    },
    {
      "cell_type": "code",
      "source": [
        "def svd_process(ratings):\n",
        "    reader = Reader(rating_scale=(0.5, 5))\n",
        "    data = Dataset.load_from_df(ratings[['userId', 'movieId', 'rating']], reader)\n",
        "    trainset, testset = surprise_train_test_split(data, test_size=0.2)  # split the data into training and testing sets\n",
        "    model = SVD()\n",
        "    model.fit(trainset) # train the SVD model on the training set\n",
        "    predictions = model.test(testset)\n",
        "    return model, predictions\n"
      ],
      "metadata": {
        "id": "IKtp1RQeXKh1"
      },
      "execution_count": null,
      "outputs": []
    },
    {
      "cell_type": "code",
      "source": [
        "def get_top_n_recommendations(model, ratings, movies, user_id, n=10):\n",
        "    user_movies = ratings[ratings['userId'] == user_id]['movieId'] # get movies that user has already rated\n",
        "    user_unrated_movies = movies[~movies['movieId'].isin(user_movies)]['movieId']\n",
        "    predictions = [(movie_id, model.predict(user_id, movie_id).est) for movie_id in user_unrated_movies]\n",
        "    top_n = sorted(predictions, key=lambda x: x[1], reverse=True)[:n] # sort predictions by estimated rating in descending order and select top n\n",
        "    top_n_movies = [(movie_info[0], movies[movies['movieId'] == movie_info[0]]['title'].iloc[0], movie_info[1]) for movie_info in top_n]\n",
        "    return top_n_movies"
      ],
      "metadata": {
        "id": "eoJTfAbRXH9l"
      },
      "execution_count": null,
      "outputs": []
    },
    {
      "cell_type": "code",
      "source": [
        "svd_model, svd_predictions = svd_process(ratings)\n",
        "\n",
        "user_id = 15\n",
        "top_svd_recommendations = get_top_n_recommendations(svd_model, ratings, movies, user_id)\n",
        "print(\"\\nTop SVD Recommendations:\")\n",
        "for movie_id, title, predicted_rating in top_svd_recommendations:\n",
        "    print(f\"Movie ID: {movie_id} | Title: {title} | Predicted Rating: {predicted_rating:.2f}\")\n"
      ],
      "metadata": {
        "colab": {
          "base_uri": "https://localhost:8080/"
        },
        "id": "JAm1VQOmXQ51",
        "outputId": "d9e5d1aa-7fbb-44e5-d114-2711a0aebec6"
      },
      "execution_count": null,
      "outputs": [
        {
          "output_type": "stream",
          "name": "stdout",
          "text": [
            "\n",
            "Top SVD Recommendations:\n",
            "Movie ID: 1223 | Title: Grand Day Out with Wallace and Gromit, A (1989) | Predicted Rating: 4.33\n",
            "Movie ID: 1193 | Title: One Flew Over the Cuckoo's Nest (1975) | Predicted Rating: 4.27\n",
            "Movie ID: 48516 | Title: Departed, The (2006) | Predicted Rating: 4.20\n",
            "Movie ID: 1213 | Title: Goodfellas (1990) | Predicted Rating: 4.20\n",
            "Movie ID: 110 | Title: Braveheart (1995) | Predicted Rating: 4.19\n",
            "Movie ID: 720 | Title: Wallace & Gromit: The Best of Aardman Animation (1996) | Predicted Rating: 4.17\n",
            "Movie ID: 1104 | Title: Streetcar Named Desire, A (1951) | Predicted Rating: 4.16\n",
            "Movie ID: 1953 | Title: French Connection, The (1971) | Predicted Rating: 4.15\n",
            "Movie ID: 1201 | Title: Good, the Bad and the Ugly, The (Buono, il brutto, il cattivo, Il) (1966) | Predicted Rating: 4.15\n",
            "Movie ID: 3681 | Title: For a Few Dollars More (Per qualche dollaro in più) (1965) | Predicted Rating: 4.14\n"
          ]
        }
      ]
    },
    {
      "cell_type": "code",
      "source": [
        "actual_ratings = [pred.r_ui for pred in svd_predictions] # extracting actual ratings from the SVD predictions\n",
        "predicted_ratings = [pred.est for pred in svd_predictions if pred.est is not None] # extracting predicted ratings\n",
        "rmse, mae = calculate_metrics(actual_ratings, predicted_ratings)\n",
        "print(f\"RMSE: {rmse:.4f}, MAE: {mae:.4f}\")\n"
      ],
      "metadata": {
        "colab": {
          "base_uri": "https://localhost:8080/"
        },
        "id": "I2SIuPrGZwNx",
        "outputId": "d3073bb8-3fe8-4f1b-f02e-6d8009dffe1a"
      },
      "execution_count": null,
      "outputs": [
        {
          "output_type": "stream",
          "name": "stdout",
          "text": [
            "RMSE: 0.8743, MAE: 0.6698\n"
          ]
        }
      ]
    },
    {
      "cell_type": "code",
      "source": [
        "svd_classification_predictions = [(pred.r_ui, pred.est) for pred in svd_predictions if pred.est is not None]\n",
        "\n",
        "actuals, predictions = zip(*svd_classification_predictions)  # unpack the list of tuples into separate lists for actuals and predictions\n",
        "svd_metrics = calculate_classification_metrics(actuals, predictions)\n",
        "print(f\"Precision: {svd_metrics['Precision']:.4f}\\nRecall: {svd_metrics['Recall']:.4f}\\nF1-Score: {svd_metrics['F1-Score']:.4f}\")"
      ],
      "metadata": {
        "colab": {
          "base_uri": "https://localhost:8080/"
        },
        "id": "RHPdEZaVZzHz",
        "outputId": "a9054a0c-a39e-44d3-8ab2-e376f717d0e2"
      },
      "execution_count": null,
      "outputs": [
        {
          "output_type": "stream",
          "name": "stdout",
          "text": [
            "Precision: 0.6740\n",
            "Recall: 0.7330\n",
            "F1-Score: 0.7022\n"
          ]
        }
      ]
    },
    {
      "cell_type": "markdown",
      "source": [
        "## **Neural Collaborative Filtering(NCF)**"
      ],
      "metadata": {
        "id": "dtLKzZrMx4t4"
      }
    },
    {
      "cell_type": "code",
      "source": [
        "def build_and_train_ncf_model(ratings):\n",
        "    user_encoder = LabelEncoder() # initialising label encoders for user and movie\n",
        "    movie_encoder = LabelEncoder()\n",
        "\n",
        "    ratings['userId'] = user_encoder.fit_transform(ratings['userId'])\n",
        "    ratings['movieId'] = movie_encoder.fit_transform(ratings['movieId'])\n",
        "\n",
        "    train, test = train_test_split(ratings, test_size=0.2, random_state=42) # split data into train and test sets\n",
        "    num_users = ratings['userId'].nunique() # get unique number of users and movies\n",
        "    num_movies = ratings['movieId'].nunique()\n",
        "\n",
        "    embedding_size = 50 # setting embedding size\n",
        "\n",
        "    user_input = Input(shape=(1,), name='user_input') # defining input layers for user and movie IDs\n",
        "    movie_input = Input(shape=(1,), name='movie_input')\n",
        "\n",
        "    user_embedding = Embedding(num_users, embedding_size, name='user_embedding')(user_input)\n",
        "    movie_embedding = Embedding(num_movies, embedding_size, name='movie_embedding')(movie_input)\n",
        "\n",
        "    user_vec = Flatten(name='flatten_users')(user_embedding)\n",
        "    movie_vec = Flatten(name='flatten_movies')(movie_embedding)\n",
        "\n",
        "    concat = Concatenate()([user_vec, movie_vec])# concatenate user and movie vectors\n",
        "\n",
        "    dense = Dense(128, activation='relu')(concat)\n",
        "    dense = Dense(64, activation='relu')(dense)\n",
        "    outputs = Dense(1, activation='linear')(dense)\n",
        "\n",
        "    model = Model(inputs=[user_input, movie_input], outputs=outputs)    # define and compile the model\n",
        "    model.compile(optimizer=Adam(0.001), loss='mean_squared_error')\n",
        "\n",
        "    history = model.fit( # train the model\n",
        "        [train['userId'].values, train['movieId'].values],\n",
        "        train['rating'].values,\n",
        "        batch_size=32,\n",
        "        epochs=5,\n",
        "        validation_data=(\n",
        "            [test['userId'].values, test['movieId'].values],\n",
        "            test['rating'].values\n",
        "        )\n",
        "    )\n",
        "\n",
        "    plt.figure(figsize=(10, 6))\n",
        "    plt.plot(history.history['loss'], label='Training Loss')\n",
        "    plt.plot(history.history['val_loss'], label='Validation Loss')\n",
        "    plt.title('Model Loss')\n",
        "    plt.xlabel('Epoch')\n",
        "    plt.ylabel('Loss')\n",
        "    plt.legend()\n",
        "    plt.grid(True)\n",
        "    plt.show()\n",
        "\n",
        "    test_predictions = model.predict([test['userId'].values, test['movieId'].values]).flatten()\n",
        "    rmse = sqrt(mean_squared_error(test['rating'].values, test_predictions))\n",
        "    mae = mean_absolute_error(test['rating'].values, test_predictions)\n",
        "    return model, rmse, mae, user_encoder, movie_encoder, test"
      ],
      "metadata": {
        "id": "pD0B7ZuvI6fP"
      },
      "execution_count": null,
      "outputs": []
    },
    {
      "cell_type": "code",
      "source": [
        "def recommend_movies_ncf(model, ratings, movies, user_id, user_encoder, movie_encoder, top_n=10):\n",
        "    user_idx = user_encoder.transform([user_id])[0] # converting user id to its encoded form\n",
        "    rated_user_movies = ratings[ratings['userId'] == user_id]['movieId'].unique() # finding movies already rated by the user\n",
        "\n",
        "    all_movie_ids = movies['movieId'].unique()\n",
        "    movies_to_predict = np.setdiff1d(all_movie_ids, rated_user_movies)\n",
        "\n",
        "    valid_movie_ids = [mid for mid in movies_to_predict if mid in movie_encoder.classes_]  # filtering out movie ids that are not in the movie encoder's classes\n",
        "\n",
        "    user_idx_array = np.array([user_idx] * len(valid_movie_ids))  # repeat user index for each valid movie id\n",
        "    movie_idx_array = movie_encoder.transform(valid_movie_ids)  # encode valid movie ids\n",
        "\n",
        "    predictions = model.predict([user_idx_array, movie_idx_array]).flatten()\n",
        "    predictions = np.clip(predictions, 0.5, 5)\n",
        "\n",
        "    top_n_indices = predictions.argsort()[-top_n:][::-1]\n",
        "    recommended_movie_ids = np.array(valid_movie_ids)[top_n_indices]\n",
        "    recommended_movie_scores = predictions[top_n_indices]\n",
        "\n",
        "    recommended_movies = movies[movies['movieId'].isin(recommended_movie_ids)]\n",
        "    recommended_movies = recommended_movies.copy()\n",
        "    recommended_movies.loc[:, 'predicted_rating'] = recommended_movie_scores\n",
        "\n",
        "    recommended_movies = recommended_movies.sort_values('predicted_rating', ascending=False)\n",
        "\n",
        "    return recommended_movies[['title', 'predicted_rating']]"
      ],
      "metadata": {
        "id": "v0euAIdrJLj3"
      },
      "execution_count": null,
      "outputs": []
    },
    {
      "cell_type": "code",
      "source": [
        "def prepare_ncf_predictions(model, test, user_encoder, movie_encoder):\n",
        "    test_predictions = model.predict([test['userId'].values, test['movieId'].values]).flatten()\n",
        "    actual_predicted = list(zip(test['rating'].values, test_predictions))  # combining actual and predicted ratings\n",
        "    return actual_predicted"
      ],
      "metadata": {
        "id": "W_oKym2FJO5V"
      },
      "execution_count": null,
      "outputs": []
    },
    {
      "cell_type": "code",
      "source": [
        "ncf_model, ncf_rmse, ncf_mae, user_encoder, movie_encoder, test = build_and_train_ncf_model(ratings)\n",
        "print(f\"\\nRMSE: {ncf_rmse:.4f}\\nMAE: {ncf_mae:.4f}\")\n",
        "print(\"NCF Model Trained\")\n"
      ],
      "metadata": {
        "colab": {
          "base_uri": "https://localhost:8080/",
          "height": 824
        },
        "id": "-sZ9A5hiJQXm",
        "outputId": "55e0b84c-4374-42b3-ff91-31632db4b33b"
      },
      "execution_count": null,
      "outputs": [
        {
          "output_type": "stream",
          "name": "stdout",
          "text": [
            "Epoch 1/5\n",
            "2521/2521 [==============================] - 39s 14ms/step - loss: 0.9621 - val_loss: 0.8206\n",
            "Epoch 2/5\n",
            "2521/2521 [==============================] - 26s 10ms/step - loss: 0.7081 - val_loss: 0.7689\n",
            "Epoch 3/5\n",
            "2521/2521 [==============================] - 25s 10ms/step - loss: 0.6543 - val_loss: 0.7651\n",
            "Epoch 4/5\n",
            "2521/2521 [==============================] - 26s 10ms/step - loss: 0.5996 - val_loss: 0.7828\n",
            "Epoch 5/5\n",
            "2521/2521 [==============================] - 27s 11ms/step - loss: 0.5294 - val_loss: 0.8245\n"
          ]
        },
        {
          "output_type": "display_data",
          "data": {
            "text/plain": [
              "<Figure size 1000x600 with 1 Axes>"
            ],
            "image/png": "[encoded data removed]"
          },
          "metadata": {}
        },
        {
          "output_type": "stream",
          "name": "stdout",
          "text": [
            "631/631 [==============================] - 1s 1ms/step\n",
            "\n",
            "RMSE: 0.9080\n",
            "MAE: 0.6882\n",
            "NCF Model Trained\n"
          ]
        }
      ]
    },
    {
      "cell_type": "code",
      "source": [
        "user_id = 10\n",
        "ncf_recommendations = recommend_movies_ncf(ncf_model, ratings, movies, user_id, user_encoder, movie_encoder)\n",
        "print(\"NCF Recommendations:\")\n",
        "display(ncf_recommendations)\n",
        "\n",
        "ncf_predictions = prepare_ncf_predictions(ncf_model, test, user_encoder, movie_encoder)\n",
        "actuals, predictions = zip(*ncf_predictions)\n",
        "\n",
        "ncf_classification_metrics = calculate_classification_metrics(actuals, predictions, threshold = 3.5)\n",
        "print(f\"Precision: {ncf_classification_metrics['Precision']:.4f}\")\n",
        "print(f\"Recall: {ncf_classification_metrics['Recall']:.4f}\")\n",
        "print(f\"F1-Score: {ncf_classification_metrics['F1-Score']:.4f}\")"
      ],
      "metadata": {
        "colab": {
          "base_uri": "https://localhost:8080/",
          "height": 467
        },
        "id": "udUNSfClKCJt",
        "outputId": "ecf71e86-da2c-4b93-880b-7196c99c3ad9"
      },
      "execution_count": null,
      "outputs": [
        {
          "output_type": "stream",
          "name": "stdout",
          "text": [
            "303/303 [==============================] - 1s 3ms/step\n",
            "NCF Recommendations:\n"
          ]
        },
        {
          "output_type": "display_data",
          "data": {
            "text/plain": [
              "                                title  predicted_rating\n",
              "62         From Dusk Till Dawn (1996)          5.000000\n",
              "592                  Rock, The (1996)          5.000000\n",
              "1714                 Nashville (1975)          4.976501\n",
              "1961                  eXistenZ (1999)          4.829728\n",
              "2959              Billy Elliot (2000)          4.826491\n",
              "3734                 Hangar 18 (1980)          4.773508\n",
              "5580             Bad Boy Bubby (1993)          4.769041\n",
              "7041                  Fired Up (2009)          4.762200\n",
              "8485  The Hundred-Foot Journey (2014)          4.719678\n",
              "9349   Jim Jefferies: Freedumb (2016)          4.705194"
            ],
            "text/html": [
              "\n",
              "  <div id=\"df-638778a6-3bb8-4629-b8bc-f71497816378\" class=\"colab-df-container\">\n",
              "    <div>\n",
              "<style scoped>\n",
              "    .dataframe tbody tr th:only-of-type {\n",
              "        vertical-align: middle;\n",
              "    }\n",
              "\n",
              "    .dataframe tbody tr th {\n",
              "        vertical-align: top;\n",
              "    }\n",
              "\n",
              "    .dataframe thead th {\n",
              "        text-align: right;\n",
              "    }\n",
              "</style>\n",
              "<table border=\"1\" class=\"dataframe\">\n",
              "  <thead>\n",
              "    <tr style=\"text-align: right;\">\n",
              "      <th></th>\n",
              "      <th>title</th>\n",
              "      <th>predicted_rating</th>\n",
              "    </tr>\n",
              "  </thead>\n",
              "  <tbody>\n",
              "    <tr>\n",
              "      <th>62</th>\n",
              "      <td>From Dusk Till Dawn (1996)</td>\n",
              "      <td>5.000000</td>\n",
              "    </tr>\n",
              "    <tr>\n",
              "      <th>592</th>\n",
              "      <td>Rock, The (1996)</td>\n",
              "      <td>5.000000</td>\n",
              "    </tr>\n",
              "    <tr>\n",
              "      <th>1714</th>\n",
              "      <td>Nashville (1975)</td>\n",
              "      <td>4.976501</td>\n",
              "    </tr>\n",
              "    <tr>\n",
              "      <th>1961</th>\n",
              "      <td>eXistenZ (1999)</td>\n",
              "      <td>4.829728</td>\n",
              "    </tr>\n",
              "    <tr>\n",
              "      <th>2959</th>\n",
              "      <td>Billy Elliot (2000)</td>\n",
              "      <td>4.826491</td>\n",
              "    </tr>\n",
              "    <tr>\n",
              "      <th>3734</th>\n",
              "      <td>Hangar 18 (1980)</td>\n",
              "      <td>4.773508</td>\n",
              "    </tr>\n",
              "    <tr>\n",
              "      <th>5580</th>\n",
              "      <td>Bad Boy Bubby (1993)</td>\n",
              "      <td>4.769041</td>\n",
              "    </tr>\n",
              "    <tr>\n",
              "      <th>7041</th>\n",
              "      <td>Fired Up (2009)</td>\n",
              "      <td>4.762200</td>\n",
              "    </tr>\n",
              "    <tr>\n",
              "      <th>8485</th>\n",
              "      <td>The Hundred-Foot Journey (2014)</td>\n",
              "      <td>4.719678</td>\n",
              "    </tr>\n",
              "    <tr>\n",
              "      <th>9349</th>\n",
              "      <td>Jim Jefferies: Freedumb (2016)</td>\n",
              "      <td>4.705194</td>\n",
              "    </tr>\n",
              "  </tbody>\n",
              "</table>\n",
              "</div>\n",
              "    <div class=\"colab-df-buttons\">\n",
              "\n",
              "  <div class=\"colab-df-container\">\n",
              "    <button class=\"colab-df-convert\" onclick=\"convertToInteractive('df-638778a6-3bb8-4629-b8bc-f71497816378')\"\n",
              "            title=\"Convert this dataframe to an interactive table.\"\n",
              "            style=\"display:none;\">\n",
              "\n",
              "  <svg xmlns=\"http://www.w3.org/2000/svg\" height=\"24px\" viewBox=\"0 -960 960 960\">\n",
              "    <path d=\"M120-120v-720h720v720H120Zm60-500h600v-160H180v160Zm220 220h160v-160H400v160Zm0 220h160v-160H400v160ZM180-400h160v-160H180v160Zm440 0h160v-160H620v160ZM180-180h160v-160H180v160Zm440 0h160v-160H620v160Z\"/>\n",
              "  </svg>\n",
              "    </button>\n",
              "\n",
              "  <style>\n",
              "    .colab-df-container {\n",
              "      display:flex;\n",
              "      gap: 12px;\n",
              "    }\n",
              "\n",
              "    .colab-df-convert {\n",
              "      background-color: #E8F0FE;\n",
              "      border: none;\n",
              "      border-radius: 50%;\n",
              "      cursor: pointer;\n",
              "      display: none;\n",
              "      fill: #1967D2;\n",
              "      height: 32px;\n",
              "      padding: 0 0 0 0;\n",
              "      width: 32px;\n",
              "    }\n",
              "\n",
              "    .colab-df-convert:hover {\n",
              "      background-color: #E2EBFA;\n",
              "      box-shadow: 0px 1px 2px rgba(60, 64, 67, 0.3), 0px 1px 3px 1px rgba(60, 64, 67, 0.15);\n",
              "      fill: #174EA6;\n",
              "    }\n",
              "\n",
              "    .colab-df-buttons div {\n",
              "      margin-bottom: 4px;\n",
              "    }\n",
              "\n",
              "    [theme=dark] .colab-df-convert {\n",
              "      background-color: #3B4455;\n",
              "      fill: #D2E3FC;\n",
              "    }\n",
              "\n",
              "    [theme=dark] .colab-df-convert:hover {\n",
              "      background-color: #434B5C;\n",
              "      box-shadow: 0px 1px 3px 1px rgba(0, 0, 0, 0.15);\n",
              "      filter: drop-shadow(0px 1px 2px rgba(0, 0, 0, 0.3));\n",
              "      fill: #FFFFFF;\n",
              "    }\n",
              "  </style>\n",
              "\n",
              "    <script>\n",
              "      const buttonEl =\n",
              "        document.querySelector('#df-638778a6-3bb8-4629-b8bc-f71497816378 button.colab-df-convert');\n",
              "      buttonEl.style.display =\n",
              "        google.colab.kernel.accessAllowed ? 'block' : 'none';\n",
              "\n",
              "      async function convertToInteractive(key) {\n",
              "        const element = document.querySelector('#df-638778a6-3bb8-4629-b8bc-f71497816378');\n",
              "        const dataTable =\n",
              "          await google.colab.kernel.invokeFunction('convertToInteractive',\n",
              "                                                    [key], {});\n",
              "        if (!dataTable) return;\n",
              "\n",
              "        const docLinkHtml = 'Like what you see? Visit the ' +\n",
              "          '<a target=\"_blank\" href=https://colab.research.google.com/notebooks/data_table.ipynb>data table notebook</a>'\n",
              "          + ' to learn more about interactive tables.';\n",
              "        element.innerHTML = '';\n",
              "        dataTable['output_type'] = 'display_data';\n",
              "        await google.colab.output.renderOutput(dataTable, element);\n",
              "        const docLink = document.createElement('div');\n",
              "        docLink.innerHTML = docLinkHtml;\n",
              "        element.appendChild(docLink);\n",
              "      }\n",
              "    </script>\n",
              "  </div>\n",
              "\n",
              "\n",
              "<div id=\"df-d310d18f-130a-4771-b41e-b831a1dfdc75\">\n",
              "  <button class=\"colab-df-quickchart\" onclick=\"quickchart('df-d310d18f-130a-4771-b41e-b831a1dfdc75')\"\n",
              "            title=\"Suggest charts\"\n",
              "            style=\"display:none;\">\n",
              "\n",
              "<svg xmlns=\"http://www.w3.org/2000/svg\" height=\"24px\"viewBox=\"0 0 24 24\"\n",
              "     width=\"24px\">\n",
              "    <g>\n",
              "        <path d=\"M19 3H5c-1.1 0-2 .9-2 2v14c0 1.1.9 2 2 2h14c1.1 0 2-.9 2-2V5c0-1.1-.9-2-2-2zM9 17H7v-7h2v7zm4 0h-2V7h2v10zm4 0h-2v-4h2v4z\"/>\n",
              "    </g>\n",
              "</svg>\n",
              "  </button>\n",
              "\n",
              "<style>\n",
              "  .colab-df-quickchart {\n",
              "      --bg-color: #E8F0FE;\n",
              "      --fill-color: #1967D2;\n",
              "      --hover-bg-color: #E2EBFA;\n",
              "      --hover-fill-color: #174EA6;\n",
              "      --disabled-fill-color: #AAA;\n",
              "      --disabled-bg-color: #DDD;\n",
              "  }\n",
              "\n",
              "  [theme=dark] .colab-df-quickchart {\n",
              "      --bg-color: #3B4455;\n",
              "      --fill-color: #D2E3FC;\n",
              "      --hover-bg-color: #434B5C;\n",
              "      --hover-fill-color: #FFFFFF;\n",
              "      --disabled-bg-color: #3B4455;\n",
              "      --disabled-fill-color: #666;\n",
              "  }\n",
              "\n",
              "  .colab-df-quickchart {\n",
              "    background-color: var(--bg-color);\n",
              "    border: none;\n",
              "    border-radius: 50%;\n",
              "    cursor: pointer;\n",
              "    display: none;\n",
              "    fill: var(--fill-color);\n",
              "    height: 32px;\n",
              "    padding: 0;\n",
              "    width: 32px;\n",
              "  }\n",
              "\n",
              "  .colab-df-quickchart:hover {\n",
              "    background-color: var(--hover-bg-color);\n",
              "    box-shadow: 0 1px 2px rgba(60, 64, 67, 0.3), 0 1px 3px 1px rgba(60, 64, 67, 0.15);\n",
              "    fill: var(--button-hover-fill-color);\n",
              "  }\n",
              "\n",
              "  .colab-df-quickchart-complete:disabled,\n",
              "  .colab-df-quickchart-complete:disabled:hover {\n",
              "    background-color: var(--disabled-bg-color);\n",
              "    fill: var(--disabled-fill-color);\n",
              "    box-shadow: none;\n",
              "  }\n",
              "\n",
              "  .colab-df-spinner {\n",
              "    border: 2px solid var(--fill-color);\n",
              "    border-color: transparent;\n",
              "    border-bottom-color: var(--fill-color);\n",
              "    animation:\n",
              "      spin 1s steps(1) infinite;\n",
              "  }\n",
              "\n",
              "  @keyframes spin {\n",
              "    0% {\n",
              "      border-color: transparent;\n",
              "      border-bottom-color: var(--fill-color);\n",
              "      border-left-color: var(--fill-color);\n",
              "    }\n",
              "    20% {\n",
              "      border-color: transparent;\n",
              "      border-left-color: var(--fill-color);\n",
              "      border-top-color: var(--fill-color);\n",
              "    }\n",
              "    30% {\n",
              "      border-color: transparent;\n",
              "      border-left-color: var(--fill-color);\n",
              "      border-top-color: var(--fill-color);\n",
              "      border-right-color: var(--fill-color);\n",
              "    }\n",
              "    40% {\n",
              "      border-color: transparent;\n",
              "      border-right-color: var(--fill-color);\n",
              "      border-top-color: var(--fill-color);\n",
              "    }\n",
              "    60% {\n",
              "      border-color: transparent;\n",
              "      border-right-color: var(--fill-color);\n",
              "    }\n",
              "    80% {\n",
              "      border-color: transparent;\n",
              "      border-right-color: var(--fill-color);\n",
              "      border-bottom-color: var(--fill-color);\n",
              "    }\n",
              "    90% {\n",
              "      border-color: transparent;\n",
              "      border-bottom-color: var(--fill-color);\n",
              "    }\n",
              "  }\n",
              "</style>\n",
              "\n",
              "  <script>\n",
              "    async function quickchart(key) {\n",
              "      const quickchartButtonEl =\n",
              "        document.querySelector('#' + key + ' button');\n",
              "      quickchartButtonEl.disabled = true;  // To prevent multiple clicks.\n",
              "      quickchartButtonEl.classList.add('colab-df-spinner');\n",
              "      try {\n",
              "        const charts = await google.colab.kernel.invokeFunction(\n",
              "            'suggestCharts', [key], {});\n",
              "      } catch (error) {\n",
              "        console.error('Error during call to suggestCharts:', error);\n",
              "      }\n",
              "      quickchartButtonEl.classList.remove('colab-df-spinner');\n",
              "      quickchartButtonEl.classList.add('colab-df-quickchart-complete');\n",
              "    }\n",
              "    (() => {\n",
              "      let quickchartButtonEl =\n",
              "        document.querySelector('#df-d310d18f-130a-4771-b41e-b831a1dfdc75 button');\n",
              "      quickchartButtonEl.style.display =\n",
              "        google.colab.kernel.accessAllowed ? 'block' : 'none';\n",
              "    })();\n",
              "  </script>\n",
              "</div>\n",
              "    </div>\n",
              "  </div>\n"
            ],
            "application/vnd.google.colaboratory.intrinsic+json": {
              "type": "dataframe",
              "variable_name": "ncf_recommendations",
              "summary": "{\n  \"name\": \"ncf_recommendations\",\n  \"rows\": 10,\n  \"fields\": [\n    {\n      \"column\": \"title\",\n      \"properties\": {\n        \"dtype\": \"string\",\n        \"num_unique_values\": 10,\n        \"samples\": [\n          \"The Hundred-Foot Journey (2014)\",\n          \"Rock, The (1996)\",\n          \"Hangar 18 (1980)\"\n        ],\n        \"semantic_type\": \"\",\n        \"description\": \"\"\n      }\n    },\n    {\n      \"column\": \"predicted_rating\",\n      \"properties\": {\n        \"dtype\": \"float32\",\n        \"num_unique_values\": 9,\n        \"samples\": [\n          4.7196784019470215,\n          4.97650146484375,\n          4.769040584564209\n        ],\n        \"semantic_type\": \"\",\n        \"description\": \"\"\n      }\n    }\n  ]\n}"
            }
          },
          "metadata": {}
        },
        {
          "output_type": "stream",
          "name": "stdout",
          "text": [
            "631/631 [==============================] - 1s 2ms/step\n",
            "Precision: 0.6500\n",
            "Recall: 0.7791\n",
            "F1-Score: 0.7087\n"
          ]
        }
      ]
    },
    {
      "cell_type": "markdown",
      "source": [
        "##**K-Nearest Neighbour (KNN)**"
      ],
      "metadata": {
        "id": "cfmdopXlJuNz"
      }
    },
    {
      "cell_type": "code",
      "source": [
        "def knn_recommendation(user_item_matrix, movie_title, k=10):\n",
        "    nbrs = NearestNeighbors(n_neighbors=k, metric='cosine').fit(user_item_matrix.values.T)  # fit k nearest neighbors model\n",
        "    distances, indices = nbrs.kneighbors(user_item_matrix[movie_title].values.reshape(1, -1))  # find distances and indices of nearest neighbors\n",
        "    return distances, indices"
      ],
      "metadata": {
        "id": "tbNC1sbZ5r3F"
      },
      "execution_count": null,
      "outputs": []
    },
    {
      "cell_type": "code",
      "source": [
        "def evaluate_knn_recommendation(user_item_matrix, movie_title, k=5):\n",
        "    distances, indices = knn_recommendation(user_item_matrix, movie_title, k)  # get distances and indices of nearest neighbors and get recommendations\n",
        "    recommendations = [user_item_matrix.columns[idx] for idx in indices.flatten() if idx != 0]\n",
        "\n",
        "    actual_ratings, predicted_ratings = [], []\n",
        "    for movie in recommendations:\n",
        "        if movie != movie_title:\n",
        "            actual_rating = user_item_matrix[movie_title].mean()\n",
        "            predicted_rating = user_item_matrix[movie].mean()\n",
        "            actual_ratings.append(actual_rating)\n",
        "            predicted_ratings.append(predicted_rating)\n",
        "\n",
        "    rmse, mae = calculate_metrics(actual_ratings, predicted_ratings)\n",
        "    return rmse, mae"
      ],
      "metadata": {
        "id": "rB01VT1_5t56"
      },
      "execution_count": null,
      "outputs": []
    },
    {
      "cell_type": "code",
      "source": [
        "movie_title = 'Toy Story (1995)'\n",
        "distances, indices = knn_recommendation(user_item_matrix, movie_title) # get distances and indices of nearest neighbors for the movie\n",
        "\n",
        "print(\"KNN Recommendations for\", movie_title)\n",
        "for i in range(1, len(indices.flatten())):\n",
        "    print(i, user_item_matrix.columns[indices.flatten()[i]])\n",
        "\n",
        "\n",
        "rmse, mae = evaluate_knn_recommendation(user_item_matrix, movie_title)\n",
        "print(\"RMSE:\", rmse)\n",
        "print(\"MAE:\", mae)\n",
        "\n",
        "def evaluate_user_recommendation_classification_metrics(user_item_matrix, user_id, threshold=3.5, k=5):\n",
        "    user_ratings, rated_movies = get_user_ratings(user_item_matrix, user_id)\n",
        "\n",
        "    relevant_movies = user_item_matrix.loc[user_id][user_item_matrix.loc[user_id] > threshold].index.tolist()  # getting relevant movies rated above threshold\n",
        "\n",
        "    recommended_movies = []\n",
        "    for movie_title in rated_movies:\n",
        "        distances, indices = knn_recommendation(user_item_matrix, movie_title, k)\n",
        "        recommendations = [user_item_matrix.columns[idx] for idx in indices.flatten() if idx != 0]\n",
        "        recommended_movies.extend(recommendations)\n",
        "\n",
        "    recommended_movies = list(set(recommended_movies))\n",
        "\n",
        "    true_positives = sum(1 for movie in recommended_movies if movie in relevant_movies)\n",
        "    false_positives = len(recommended_movies) - true_positives\n",
        "    false_negatives = len(relevant_movies) - true_positives\n",
        "\n",
        "    precision = true_positives / (true_positives + false_positives) if (true_positives + false_positives) > 0 else 0\n",
        "    recall = true_positives / (true_positives + false_negatives) if (true_positives + false_negatives) > 0 else 0\n",
        "    f1_score = 2 * (precision * recall) / (precision + recall) if (precision + recall) > 0 else 0\n",
        "\n",
        "    return {\"Precision\": precision, \"Recall\": recall, \"F1-Score\": f1_score}\n",
        "\n",
        "user_id = 1\n",
        "classification_metrics = evaluate_user_recommendation_classification_metrics(user_item_matrix, user_id)\n",
        "print(\"Precision:\", classification_metrics[\"Precision\"])\n",
        "print(\"Recall:\", classification_metrics[\"Recall\"])\n",
        "print(\"F1-Score:\", classification_metrics[\"F1-Score\"])\n",
        "\n"
      ],
      "metadata": {
        "colab": {
          "base_uri": "https://localhost:8080/"
        },
        "id": "fWpwByMB5wNU",
        "outputId": "c646751b-adc4-4520-d3de-de0dcfbabf3c"
      },
      "execution_count": null,
      "outputs": [
        {
          "output_type": "stream",
          "name": "stdout",
          "text": [
            "KNN Recommendations for Toy Story (1995)\n",
            "1 Toy Story 2 (1999)\n",
            "2 Jurassic Park (1993)\n",
            "3 Independence Day (a.k.a. ID4) (1996)\n",
            "4 Star Wars: Episode IV - A New Hope (1977)\n",
            "5 Forrest Gump (1994)\n",
            "6 Lion King, The (1994)\n",
            "7 Star Wars: Episode VI - Return of the Jedi (1983)\n",
            "8 Mission: Impossible (1996)\n",
            "9 Groundhog Day (1993)\n",
            "RMSE: 0.44255653721540267\n",
            "MAE: 0.36229508196721305\n",
            "Precision: 0.36968576709796674\n",
            "Recall: 1.0\n",
            "F1-Score: 0.5398110661268556\n"
          ]
        }
      ]
    },
    {
      "cell_type": "markdown",
      "source": [
        "## **Recurrent Neural Networks (RNN)**"
      ],
      "metadata": {
        "id": "rDnGv7_Zoe3T"
      }
    },
    {
      "cell_type": "code",
      "source": [
        "def prepare_sequences(data, num_users, num_movies):\n",
        "    user_sequences = data['userId'].values\n",
        "    movie_sequences = data['movieId'].values\n",
        "    ratings = data['rating'].values\n",
        "    return user_sequences, movie_sequences, ratings"
      ],
      "metadata": {
        "id": "0asKwg2VrGLK"
      },
      "execution_count": null,
      "outputs": []
    },
    {
      "cell_type": "code",
      "source": [
        "def create_model(num_users, num_movies):\n",
        "    user_input = Input(shape=(1,))\n",
        "    movie_input = Input(shape=(1,))\n",
        "\n",
        "    user_embedding = Embedding(input_dim=num_users, output_dim=50)(user_input)\n",
        "    movie_embedding = Embedding(input_dim=num_movies, output_dim=50)(movie_input)\n",
        "\n",
        "    concatenated = Concatenate()([user_embedding, movie_embedding])\n",
        "    rnn_output = SimpleRNN(units=50)(concatenated) # define SimpleRNN layer\n",
        "    output = Dense(units=1, activation='linear')(rnn_output) # output layer\n",
        "\n",
        "    model = Model(inputs=[user_input, movie_input], outputs=output) # define and compile the model\n",
        "    model.compile(optimizer='adam', loss='mse')\n",
        "\n",
        "    return model"
      ],
      "metadata": {
        "id": "3vmePByWrIFx"
      },
      "execution_count": null,
      "outputs": []
    },
    {
      "cell_type": "code",
      "source": [
        "def recommend_movies(model, user_id, num_recommendations=10):\n",
        "    all_movie_ids = np.arange(num_movies)\n",
        "    user_ids = np.full_like(all_movie_ids, user_id)  # repeat user id for all movie ids\n",
        "    predicted_ratings = model.predict([user_ids, all_movie_ids])\n",
        "    top_indices = (-predicted_ratings.squeeze()).argsort()[:num_recommendations]\n",
        "    recommended_movie_ids = all_movie_ids[top_indices]\n",
        "    recommended_movies = movies[movies['movieId'].isin(recommended_movie_ids)]['title'].values\n",
        "    return recommended_movies\n",
        "\n",
        "encoder = LabelEncoder()\n",
        "ratings['userId'] = encoder.fit_transform(ratings['userId'])\n",
        "ratings['movieId'] = encoder.fit_transform(ratings['movieId'])\n",
        "ratings['rating'] = ratings['rating'].astype(np.float32)\n",
        "\n",
        "train_data, test_data = train_test_split(ratings, test_size=0.2, random_state=42) # split data\n",
        "\n",
        "num_users = ratings['userId'].nunique()\n",
        "num_movies = ratings['movieId'].nunique()\n",
        "\n",
        "train_user_sequences, train_movie_sequences, train_ratings = prepare_sequences(train_data, num_users, num_movies) # prepare training sequences\n",
        "\n",
        "model = create_model(num_users, num_movies) # create the recommendation model\n",
        "history = model.fit(x=[train_user_sequences, train_movie_sequences], y=train_ratings, epochs=5, batch_size=64, validation_split=0.1) # train the model\n",
        "\n",
        "user_id = 10\n",
        "recommended_movies = recommend_movies(model, user_id) # get recommended movies for the specified user\n",
        "print(\"Recommended movies for user\", user_id, \":\")\n",
        "for i, movie in enumerate(recommended_movies, 1):\n",
        "    print(i, \".\", movie)"
      ],
      "metadata": {
        "colab": {
          "base_uri": "https://localhost:8080/"
        },
        "id": "0A98kbMdmuYZ",
        "outputId": "3f00a855-b0c1-4c91-8040-0604688a722f"
      },
      "execution_count": null,
      "outputs": [
        {
          "output_type": "stream",
          "name": "stdout",
          "text": [
            "Epoch 1/5\n",
            "1135/1135 [==============================] - 16s 12ms/step - loss: 1.3713 - val_loss: 0.8294\n",
            "Epoch 2/5\n",
            "1135/1135 [==============================] - 11s 10ms/step - loss: 0.7273 - val_loss: 0.7901\n",
            "Epoch 3/5\n",
            "1135/1135 [==============================] - 12s 10ms/step - loss: 0.6896 - val_loss: 0.7763\n",
            "Epoch 4/5\n",
            "1135/1135 [==============================] - 12s 11ms/step - loss: 0.6706 - val_loss: 0.7765\n",
            "Epoch 5/5\n",
            "1135/1135 [==============================] - 11s 10ms/step - loss: 0.6565 - val_loss: 0.7739\n",
            "304/304 [==============================] - 1s 2ms/step\n",
            "Recommended movies for user 10 :\n",
            "1 . Miracle on 34th Street (1994)\n",
            "2 . House Arrest (1996)\n",
            "3 . Little Princess, The (1939)\n",
            "4 . Hocus Pocus (1993)\n",
            "5 . Rocky II (1979)\n",
            "6 . Gate, The (1987)\n",
            "7 . Secret Window (2004)\n"
          ]
        }
      ]
    },
    {
      "cell_type": "code",
      "source": [
        "training_loss = history.history['loss']\n",
        "validation_loss = history.history['val_loss']\n",
        "epochs = range(1, len(training_loss) + 1)\n",
        "\n",
        "plt.figure(figsize=(10, 6))\n",
        "plt.plot(epochs, training_loss, 'bo-', label='Training Loss')\n",
        "plt.plot(epochs, validation_loss, 'ro-', label='Validation Loss')\n",
        "plt.title('Training and Validation Loss Over Epochs')\n",
        "plt.xlabel('Epochs')\n",
        "plt.ylabel('Loss')\n",
        "plt.legend()\n",
        "plt.show()\n"
      ],
      "metadata": {
        "colab": {
          "base_uri": "https://localhost:8080/",
          "height": 564
        },
        "id": "zWZRFfu4-3gt",
        "outputId": "88cae264-93f6-4215-aaf0-4a43eb1f0035"
      },
      "execution_count": null,
      "outputs": [
        {
          "output_type": "display_data",
          "data": {
            "text/plain": [
              "<Figure size 1000x600 with 1 Axes>"
            ],
            "image/png": "[encoded data removed]"
          },
          "metadata": {}
        }
      ]
    },
    {
      "cell_type": "code",
      "source": [
        "test_user_sequences, test_movie_sequences, test_ratings = prepare_sequences(test_data, num_users, num_movies)\n",
        "predicted_ratings = model.predict([test_user_sequences, test_movie_sequences]).flatten()\n",
        "\n",
        "rmse, mae = calculate_metrics(test_ratings, predicted_ratings)\n",
        "print(\"RMSE:\", rmse)\n",
        "print(\"MAE:\", mae)\n"
      ],
      "metadata": {
        "colab": {
          "base_uri": "https://localhost:8080/"
        },
        "id": "Tw34KuUinEkY",
        "outputId": "c9c6f471-450f-4ce3-8476-66ce740d6073"
      },
      "execution_count": null,
      "outputs": [
        {
          "output_type": "stream",
          "name": "stdout",
          "text": [
            "631/631 [==============================] - 1s 2ms/step\n",
            "RMSE: 0.8837579036720726\n",
            "MAE: 0.6767721\n"
          ]
        }
      ]
    },
    {
      "cell_type": "code",
      "source": [
        "classification_metrics = calculate_classification_metrics(test_ratings, predicted_ratings.squeeze(), threshold=3.5)\n",
        "\n",
        "print(\"Precision:\", classification_metrics[\"Precision\"])\n",
        "print(\"Recall:\", classification_metrics[\"Recall\"])\n",
        "print(\"F1-Score:\", classification_metrics[\"F1-Score\"])\n"
      ],
      "metadata": {
        "colab": {
          "base_uri": "https://localhost:8080/"
        },
        "id": "KuxkRz8qnetZ",
        "outputId": "6dd3c1af-f5db-486f-ab56-7631fab0da7d"
      },
      "execution_count": null,
      "outputs": [
        {
          "output_type": "stream",
          "name": "stdout",
          "text": [
            "Precision: 0.667575179431271\n",
            "Recall: 0.7582292849035187\n",
            "F1-Score: 0.7100202918156343\n"
          ]
        }
      ]
    },
    {
      "cell_type": "markdown",
      "source": [
        "# **Content-Based Filtering Algorithm**"
      ],
      "metadata": {
        "id": "PjWqNPpEaR5_"
      }
    },
    {
      "cell_type": "code",
      "source": [
        "def extract_features(data):\n",
        "    tfidf = TfidfVectorizer(stop_words='english') # initialize TF-IDF vectorizer\n",
        "    tfidf_matrix = tfidf.fit_transform(data['genres'])  # transform genre data into TF-IDF matrix\n",
        "    return tfidf_matrix\n",
        "\n",
        "def build_similarity_matrix(data):\n",
        "    feature_matrix = extract_features(data)  # extract features from movie genres\n",
        "    cosine_sim_matrix = cosine_similarity(feature_matrix, feature_matrix)\n",
        "    return cosine_sim_matrix\n",
        "\n",
        "def recommend_movies_by_genre(genre, movies, top_n=10):\n",
        "    genre_movies = movies[movies['genres'].str.contains(genre, case=False, na=False)] # filter movies based on the specified genre\n",
        "    return genre_movies.sample(n=top_n if len(genre_movies) >= top_n else len(genre_movies))"
      ],
      "metadata": {
        "id": "Fdl3w6DpeHM2"
      },
      "execution_count": null,
      "outputs": []
    },
    {
      "cell_type": "code",
      "source": [
        "from IPython.display import display\n",
        "\n",
        "movies['genres'] = movies['genres'].fillna('')\n",
        "\n",
        "input_genre = 'Animation'\n",
        "recommended_movies = recommend_movies_by_genre(input_genre, movies, top_n=10)\n",
        "\n",
        "print(\"Recommended Movies:\")\n",
        "display(recommended_movies[['title', 'genres']])"
      ],
      "metadata": {
        "colab": {
          "base_uri": "https://localhost:8080/",
          "height": 380
        },
        "id": "CJPR_vBFqTIr",
        "outputId": "be1d0ca4-c6ac-4c5d-a1d9-9bc42b1e5df7"
      },
      "execution_count": null,
      "outputs": [
        {
          "output_type": "stream",
          "name": "stdout",
          "text": [
            "Recommended Movies:\n"
          ]
        },
        {
          "output_type": "display_data",
          "data": {
            "text/plain": [
              "                                                  title  \\\n",
              "6530                         Simpsons Movie, The (2007)   \n",
              "4348  Laputa: Castle in the Sky (Tenkû no shiro Rapy...   \n",
              "9381                                  Your Name. (2016)   \n",
              "9588                       Bobik Visiting Barbos (1977)   \n",
              "9453                     The Spirit of Christmas (1995)   \n",
              "8239                                      Planes (2013)   \n",
              "7904  Dragon Ball: Mystical Adventure (Doragon bôru:...   \n",
              "7903             Superman/Batman: Public Enemies (2009)   \n",
              "7074      Watchmen: Tales of the Black Freighter (2009)   \n",
              "9334                   Ice Age: Collision Course (2016)   \n",
              "\n",
              "                                                 genres  \n",
              "6530                                   Animation|Comedy  \n",
              "4348  Action|Adventure|Animation|Children|Fantasy|Sc...  \n",
              "9381                    Animation|Drama|Fantasy|Romance  \n",
              "9588                                   Animation|Comedy  \n",
              "9453                                   Animation|Comedy  \n",
              "8239                         Adventure|Animation|Comedy  \n",
              "7904                Action|Adventure|Animation|Children  \n",
              "7903                           Action|Animation|Fantasy  \n",
              "7074                  Action|Adventure|Animation|Horror  \n",
              "9334                Adventure|Animation|Children|Comedy  "
            ],
            "text/html": [
              "\n",
              "  <div id=\"df-a7e3f573-0351-40c8-ba0d-b71a9f991506\" class=\"colab-df-container\">\n",
              "    <div>\n",
              "<style scoped>\n",
              "    .dataframe tbody tr th:only-of-type {\n",
              "        vertical-align: middle;\n",
              "    }\n",
              "\n",
              "    .dataframe tbody tr th {\n",
              "        vertical-align: top;\n",
              "    }\n",
              "\n",
              "    .dataframe thead th {\n",
              "        text-align: right;\n",
              "    }\n",
              "</style>\n",
              "<table border=\"1\" class=\"dataframe\">\n",
              "  <thead>\n",
              "    <tr style=\"text-align: right;\">\n",
              "      <th></th>\n",
              "      <th>title</th>\n",
              "      <th>genres</th>\n",
              "    </tr>\n",
              "  </thead>\n",
              "  <tbody>\n",
              "    <tr>\n",
              "      <th>6530</th>\n",
              "      <td>Simpsons Movie, The (2007)</td>\n",
              "      <td>Animation|Comedy</td>\n",
              "    </tr>\n",
              "    <tr>\n",
              "      <th>4348</th>\n",
              "      <td>Laputa: Castle in the Sky (Tenkû no shiro Rapy...</td>\n",
              "      <td>Action|Adventure|Animation|Children|Fantasy|Sc...</td>\n",
              "    </tr>\n",
              "    <tr>\n",
              "      <th>9381</th>\n",
              "      <td>Your Name. (2016)</td>\n",
              "      <td>Animation|Drama|Fantasy|Romance</td>\n",
              "    </tr>\n",
              "    <tr>\n",
              "      <th>9588</th>\n",
              "      <td>Bobik Visiting Barbos (1977)</td>\n",
              "      <td>Animation|Comedy</td>\n",
              "    </tr>\n",
              "    <tr>\n",
              "      <th>9453</th>\n",
              "      <td>The Spirit of Christmas (1995)</td>\n",
              "      <td>Animation|Comedy</td>\n",
              "    </tr>\n",
              "    <tr>\n",
              "      <th>8239</th>\n",
              "      <td>Planes (2013)</td>\n",
              "      <td>Adventure|Animation|Comedy</td>\n",
              "    </tr>\n",
              "    <tr>\n",
              "      <th>7904</th>\n",
              "      <td>Dragon Ball: Mystical Adventure (Doragon bôru:...</td>\n",
              "      <td>Action|Adventure|Animation|Children</td>\n",
              "    </tr>\n",
              "    <tr>\n",
              "      <th>7903</th>\n",
              "      <td>Superman/Batman: Public Enemies (2009)</td>\n",
              "      <td>Action|Animation|Fantasy</td>\n",
              "    </tr>\n",
              "    <tr>\n",
              "      <th>7074</th>\n",
              "      <td>Watchmen: Tales of the Black Freighter (2009)</td>\n",
              "      <td>Action|Adventure|Animation|Horror</td>\n",
              "    </tr>\n",
              "    <tr>\n",
              "      <th>9334</th>\n",
              "      <td>Ice Age: Collision Course (2016)</td>\n",
              "      <td>Adventure|Animation|Children|Comedy</td>\n",
              "    </tr>\n",
              "  </tbody>\n",
              "</table>\n",
              "</div>\n",
              "    <div class=\"colab-df-buttons\">\n",
              "\n",
              "  <div class=\"colab-df-container\">\n",
              "    <button class=\"colab-df-convert\" onclick=\"convertToInteractive('df-a7e3f573-0351-40c8-ba0d-b71a9f991506')\"\n",
              "            title=\"Convert this dataframe to an interactive table.\"\n",
              "            style=\"display:none;\">\n",
              "\n",
              "  <svg xmlns=\"http://www.w3.org/2000/svg\" height=\"24px\" viewBox=\"0 -960 960 960\">\n",
              "    <path d=\"M120-120v-720h720v720H120Zm60-500h600v-160H180v160Zm220 220h160v-160H400v160Zm0 220h160v-160H400v160ZM180-400h160v-160H180v160Zm440 0h160v-160H620v160ZM180-180h160v-160H180v160Zm440 0h160v-160H620v160Z\"/>\n",
              "  </svg>\n",
              "    </button>\n",
              "\n",
              "  <style>\n",
              "    .colab-df-container {\n",
              "      display:flex;\n",
              "      gap: 12px;\n",
              "    }\n",
              "\n",
              "    .colab-df-convert {\n",
              "      background-color: #E8F0FE;\n",
              "      border: none;\n",
              "      border-radius: 50%;\n",
              "      cursor: pointer;\n",
              "      display: none;\n",
              "      fill: #1967D2;\n",
              "      height: 32px;\n",
              "      padding: 0 0 0 0;\n",
              "      width: 32px;\n",
              "    }\n",
              "\n",
              "    .colab-df-convert:hover {\n",
              "      background-color: #E2EBFA;\n",
              "      box-shadow: 0px 1px 2px rgba(60, 64, 67, 0.3), 0px 1px 3px 1px rgba(60, 64, 67, 0.15);\n",
              "      fill: #174EA6;\n",
              "    }\n",
              "\n",
              "    .colab-df-buttons div {\n",
              "      margin-bottom: 4px;\n",
              "    }\n",
              "\n",
              "    [theme=dark] .colab-df-convert {\n",
              "      background-color: #3B4455;\n",
              "      fill: #D2E3FC;\n",
              "    }\n",
              "\n",
              "    [theme=dark] .colab-df-convert:hover {\n",
              "      background-color: #434B5C;\n",
              "      box-shadow: 0px 1px 3px 1px rgba(0, 0, 0, 0.15);\n",
              "      filter: drop-shadow(0px 1px 2px rgba(0, 0, 0, 0.3));\n",
              "      fill: #FFFFFF;\n",
              "    }\n",
              "  </style>\n",
              "\n",
              "    <script>\n",
              "      const buttonEl =\n",
              "        document.querySelector('#df-a7e3f573-0351-40c8-ba0d-b71a9f991506 button.colab-df-convert');\n",
              "      buttonEl.style.display =\n",
              "        google.colab.kernel.accessAllowed ? 'block' : 'none';\n",
              "\n",
              "      async function convertToInteractive(key) {\n",
              "        const element = document.querySelector('#df-a7e3f573-0351-40c8-ba0d-b71a9f991506');\n",
              "        const dataTable =\n",
              "          await google.colab.kernel.invokeFunction('convertToInteractive',\n",
              "                                                    [key], {});\n",
              "        if (!dataTable) return;\n",
              "\n",
              "        const docLinkHtml = 'Like what you see? Visit the ' +\n",
              "          '<a target=\"_blank\" href=https://colab.research.google.com/notebooks/data_table.ipynb>data table notebook</a>'\n",
              "          + ' to learn more about interactive tables.';\n",
              "        element.innerHTML = '';\n",
              "        dataTable['output_type'] = 'display_data';\n",
              "        await google.colab.output.renderOutput(dataTable, element);\n",
              "        const docLink = document.createElement('div');\n",
              "        docLink.innerHTML = docLinkHtml;\n",
              "        element.appendChild(docLink);\n",
              "      }\n",
              "    </script>\n",
              "  </div>\n",
              "\n",
              "\n",
              "<div id=\"df-c698adc8-a8ec-4432-accb-2472279339cd\">\n",
              "  <button class=\"colab-df-quickchart\" onclick=\"quickchart('df-c698adc8-a8ec-4432-accb-2472279339cd')\"\n",
              "            title=\"Suggest charts\"\n",
              "            style=\"display:none;\">\n",
              "\n",
              "<svg xmlns=\"http://www.w3.org/2000/svg\" height=\"24px\"viewBox=\"0 0 24 24\"\n",
              "     width=\"24px\">\n",
              "    <g>\n",
              "        <path d=\"M19 3H5c-1.1 0-2 .9-2 2v14c0 1.1.9 2 2 2h14c1.1 0 2-.9 2-2V5c0-1.1-.9-2-2-2zM9 17H7v-7h2v7zm4 0h-2V7h2v10zm4 0h-2v-4h2v4z\"/>\n",
              "    </g>\n",
              "</svg>\n",
              "  </button>\n",
              "\n",
              "<style>\n",
              "  .colab-df-quickchart {\n",
              "      --bg-color: #E8F0FE;\n",
              "      --fill-color: #1967D2;\n",
              "      --hover-bg-color: #E2EBFA;\n",
              "      --hover-fill-color: #174EA6;\n",
              "      --disabled-fill-color: #AAA;\n",
              "      --disabled-bg-color: #DDD;\n",
              "  }\n",
              "\n",
              "  [theme=dark] .colab-df-quickchart {\n",
              "      --bg-color: #3B4455;\n",
              "      --fill-color: #D2E3FC;\n",
              "      --hover-bg-color: #434B5C;\n",
              "      --hover-fill-color: #FFFFFF;\n",
              "      --disabled-bg-color: #3B4455;\n",
              "      --disabled-fill-color: #666;\n",
              "  }\n",
              "\n",
              "  .colab-df-quickchart {\n",
              "    background-color: var(--bg-color);\n",
              "    border: none;\n",
              "    border-radius: 50%;\n",
              "    cursor: pointer;\n",
              "    display: none;\n",
              "    fill: var(--fill-color);\n",
              "    height: 32px;\n",
              "    padding: 0;\n",
              "    width: 32px;\n",
              "  }\n",
              "\n",
              "  .colab-df-quickchart:hover {\n",
              "    background-color: var(--hover-bg-color);\n",
              "    box-shadow: 0 1px 2px rgba(60, 64, 67, 0.3), 0 1px 3px 1px rgba(60, 64, 67, 0.15);\n",
              "    fill: var(--button-hover-fill-color);\n",
              "  }\n",
              "\n",
              "  .colab-df-quickchart-complete:disabled,\n",
              "  .colab-df-quickchart-complete:disabled:hover {\n",
              "    background-color: var(--disabled-bg-color);\n",
              "    fill: var(--disabled-fill-color);\n",
              "    box-shadow: none;\n",
              "  }\n",
              "\n",
              "  .colab-df-spinner {\n",
              "    border: 2px solid var(--fill-color);\n",
              "    border-color: transparent;\n",
              "    border-bottom-color: var(--fill-color);\n",
              "    animation:\n",
              "      spin 1s steps(1) infinite;\n",
              "  }\n",
              "\n",
              "  @keyframes spin {\n",
              "    0% {\n",
              "      border-color: transparent;\n",
              "      border-bottom-color: var(--fill-color);\n",
              "      border-left-color: var(--fill-color);\n",
              "    }\n",
              "    20% {\n",
              "      border-color: transparent;\n",
              "      border-left-color: var(--fill-color);\n",
              "      border-top-color: var(--fill-color);\n",
              "    }\n",
              "    30% {\n",
              "      border-color: transparent;\n",
              "      border-left-color: var(--fill-color);\n",
              "      border-top-color: var(--fill-color);\n",
              "      border-right-color: var(--fill-color);\n",
              "    }\n",
              "    40% {\n",
              "      border-color: transparent;\n",
              "      border-right-color: var(--fill-color);\n",
              "      border-top-color: var(--fill-color);\n",
              "    }\n",
              "    60% {\n",
              "      border-color: transparent;\n",
              "      border-right-color: var(--fill-color);\n",
              "    }\n",
              "    80% {\n",
              "      border-color: transparent;\n",
              "      border-right-color: var(--fill-color);\n",
              "      border-bottom-color: var(--fill-color);\n",
              "    }\n",
              "    90% {\n",
              "      border-color: transparent;\n",
              "      border-bottom-color: var(--fill-color);\n",
              "    }\n",
              "  }\n",
              "</style>\n",
              "\n",
              "  <script>\n",
              "    async function quickchart(key) {\n",
              "      const quickchartButtonEl =\n",
              "        document.querySelector('#' + key + ' button');\n",
              "      quickchartButtonEl.disabled = true;  // To prevent multiple clicks.\n",
              "      quickchartButtonEl.classList.add('colab-df-spinner');\n",
              "      try {\n",
              "        const charts = await google.colab.kernel.invokeFunction(\n",
              "            'suggestCharts', [key], {});\n",
              "      } catch (error) {\n",
              "        console.error('Error during call to suggestCharts:', error);\n",
              "      }\n",
              "      quickchartButtonEl.classList.remove('colab-df-spinner');\n",
              "      quickchartButtonEl.classList.add('colab-df-quickchart-complete');\n",
              "    }\n",
              "    (() => {\n",
              "      let quickchartButtonEl =\n",
              "        document.querySelector('#df-c698adc8-a8ec-4432-accb-2472279339cd button');\n",
              "      quickchartButtonEl.style.display =\n",
              "        google.colab.kernel.accessAllowed ? 'block' : 'none';\n",
              "    })();\n",
              "  </script>\n",
              "</div>\n",
              "    </div>\n",
              "  </div>\n"
            ],
            "application/vnd.google.colaboratory.intrinsic+json": {
              "type": "dataframe",
              "summary": "{\n  \"name\": \"display(recommended_movies[['title', 'genres']])\",\n  \"rows\": 10,\n  \"fields\": [\n    {\n      \"column\": \"title\",\n      \"properties\": {\n        \"dtype\": \"string\",\n        \"num_unique_values\": 10,\n        \"samples\": [\n          \"Watchmen: Tales of the Black Freighter (2009)\",\n          \"Laputa: Castle in the Sky (Tenk\\u00fb no shiro Rapyuta) (1986)\",\n          \"Planes (2013)\"\n        ],\n        \"semantic_type\": \"\",\n        \"description\": \"\"\n      }\n    },\n    {\n      \"column\": \"genres\",\n      \"properties\": {\n        \"dtype\": \"string\",\n        \"num_unique_values\": 8,\n        \"samples\": [\n          \"Action|Adventure|Animation|Children|Fantasy|Sci-Fi\",\n          \"Action|Animation|Fantasy\",\n          \"Animation|Comedy\"\n        ],\n        \"semantic_type\": \"\",\n        \"description\": \"\"\n      }\n    }\n  ]\n}"
            }
          },
          "metadata": {}
        }
      ]
    },
    {
      "cell_type": "markdown",
      "source": [
        "# **Hybrid Recommendation**"
      ],
      "metadata": {
        "id": "kUSycS5caOQn"
      }
    },
    {
      "cell_type": "code",
      "source": [
        "def recommend_genre_based_movies(ratings, movies, model, user_id, genre):\n",
        "\n",
        "    genre_movies = movies[movies['genres'].str.contains(genre, case=False, na=False)] # filtering movies by genre\n",
        "\n",
        "    user_rated_movies = ratings[ratings['userId'] == user_id]['movieId'] # identifying movies rated by user\n",
        "    unrated_movies = genre_movies[~genre_movies['movieId'].isin(user_rated_movies)]\n",
        "\n",
        "    predictions = [(row['title'], model.predict(user_id, row['movieId']).est)\n",
        "                   for _, row in unrated_movies.iterrows()]\n",
        "    predictions.sort(key=lambda x: x[1], reverse=True)\n",
        "\n",
        "    return predictions[:10]"
      ],
      "metadata": {
        "id": "jiYeOXjHRF8y"
      },
      "execution_count": null,
      "outputs": []
    },
    {
      "cell_type": "code",
      "source": [
        "svd_model, _ = svd_process(ratings) # get SVD model\n",
        "user_id = 73\n",
        "genre = 'Sci-Fi'\n",
        "recommendations = recommend_genre_based_movies(ratings, movies, svd_model, user_id, genre) # get genre-based movie recommendations for the user using SVD model\n",
        "\n",
        "recommendations_hb = pd.DataFrame(recommendations, columns=['Title', 'Predicted Rating'])\n",
        "\n",
        "print(\"Recommended Movies: \")\n",
        "display(recommendations_hb)"
      ],
      "metadata": {
        "colab": {
          "base_uri": "https://localhost:8080/",
          "height": 380
        },
        "id": "y8cKdK5hr0vP",
        "outputId": "37370b5f-636b-45d9-ec2b-195c70b0fb81"
      },
      "execution_count": null,
      "outputs": [
        {
          "output_type": "stream",
          "name": "stdout",
          "text": [
            "Recommended Movies: \n"
          ]
        },
        {
          "output_type": "display_data",
          "data": {
            "text/plain": [
              "                                               Title  Predicted Rating\n",
              "0                                        Solo (1996)          4.905276\n",
              "1  Alphaville (Alphaville, une étrange aventure d...          4.750341\n",
              "2                                     Tremors (1990)          4.649476\n",
              "3              Invasion of the Body Snatchers (1978)          4.630039\n",
              "4                                    Godzilla (1998)          4.587015\n",
              "5             Star Trek II: The Wrath of Khan (1982)          4.574825\n",
              "6                            Making Mr. Right (1987)          4.557006\n",
              "7                            Children of Dune (2003)          4.551070\n",
              "8                            Heavy Metal 2000 (2000)          4.546609\n",
              "9                                  Thing, The (1982)          4.534279"
            ],
            "text/html": [
              "\n",
              "  <div id=\"df-345db6bd-efac-4e9a-885d-977285aea1c7\" class=\"colab-df-container\">\n",
              "    <div>\n",
              "<style scoped>\n",
              "    .dataframe tbody tr th:only-of-type {\n",
              "        vertical-align: middle;\n",
              "    }\n",
              "\n",
              "    .dataframe tbody tr th {\n",
              "        vertical-align: top;\n",
              "    }\n",
              "\n",
              "    .dataframe thead th {\n",
              "        text-align: right;\n",
              "    }\n",
              "</style>\n",
              "<table border=\"1\" class=\"dataframe\">\n",
              "  <thead>\n",
              "    <tr style=\"text-align: right;\">\n",
              "      <th></th>\n",
              "      <th>Title</th>\n",
              "      <th>Predicted Rating</th>\n",
              "    </tr>\n",
              "  </thead>\n",
              "  <tbody>\n",
              "    <tr>\n",
              "      <th>0</th>\n",
              "      <td>Solo (1996)</td>\n",
              "      <td>4.905276</td>\n",
              "    </tr>\n",
              "    <tr>\n",
              "      <th>1</th>\n",
              "      <td>Alphaville (Alphaville, une étrange aventure d...</td>\n",
              "      <td>4.750341</td>\n",
              "    </tr>\n",
              "    <tr>\n",
              "      <th>2</th>\n",
              "      <td>Tremors (1990)</td>\n",
              "      <td>4.649476</td>\n",
              "    </tr>\n",
              "    <tr>\n",
              "      <th>3</th>\n",
              "      <td>Invasion of the Body Snatchers (1978)</td>\n",
              "      <td>4.630039</td>\n",
              "    </tr>\n",
              "    <tr>\n",
              "      <th>4</th>\n",
              "      <td>Godzilla (1998)</td>\n",
              "      <td>4.587015</td>\n",
              "    </tr>\n",
              "    <tr>\n",
              "      <th>5</th>\n",
              "      <td>Star Trek II: The Wrath of Khan (1982)</td>\n",
              "      <td>4.574825</td>\n",
              "    </tr>\n",
              "    <tr>\n",
              "      <th>6</th>\n",
              "      <td>Making Mr. Right (1987)</td>\n",
              "      <td>4.557006</td>\n",
              "    </tr>\n",
              "    <tr>\n",
              "      <th>7</th>\n",
              "      <td>Children of Dune (2003)</td>\n",
              "      <td>4.551070</td>\n",
              "    </tr>\n",
              "    <tr>\n",
              "      <th>8</th>\n",
              "      <td>Heavy Metal 2000 (2000)</td>\n",
              "      <td>4.546609</td>\n",
              "    </tr>\n",
              "    <tr>\n",
              "      <th>9</th>\n",
              "      <td>Thing, The (1982)</td>\n",
              "      <td>4.534279</td>\n",
              "    </tr>\n",
              "  </tbody>\n",
              "</table>\n",
              "</div>\n",
              "    <div class=\"colab-df-buttons\">\n",
              "\n",
              "  <div class=\"colab-df-container\">\n",
              "    <button class=\"colab-df-convert\" onclick=\"convertToInteractive('df-345db6bd-efac-4e9a-885d-977285aea1c7')\"\n",
              "            title=\"Convert this dataframe to an interactive table.\"\n",
              "            style=\"display:none;\">\n",
              "\n",
              "  <svg xmlns=\"http://www.w3.org/2000/svg\" height=\"24px\" viewBox=\"0 -960 960 960\">\n",
              "    <path d=\"M120-120v-720h720v720H120Zm60-500h600v-160H180v160Zm220 220h160v-160H400v160Zm0 220h160v-160H400v160ZM180-400h160v-160H180v160Zm440 0h160v-160H620v160ZM180-180h160v-160H180v160Zm440 0h160v-160H620v160Z\"/>\n",
              "  </svg>\n",
              "    </button>\n",
              "\n",
              "  <style>\n",
              "    .colab-df-container {\n",
              "      display:flex;\n",
              "      gap: 12px;\n",
              "    }\n",
              "\n",
              "    .colab-df-convert {\n",
              "      background-color: #E8F0FE;\n",
              "      border: none;\n",
              "      border-radius: 50%;\n",
              "      cursor: pointer;\n",
              "      display: none;\n",
              "      fill: #1967D2;\n",
              "      height: 32px;\n",
              "      padding: 0 0 0 0;\n",
              "      width: 32px;\n",
              "    }\n",
              "\n",
              "    .colab-df-convert:hover {\n",
              "      background-color: #E2EBFA;\n",
              "      box-shadow: 0px 1px 2px rgba(60, 64, 67, 0.3), 0px 1px 3px 1px rgba(60, 64, 67, 0.15);\n",
              "      fill: #174EA6;\n",
              "    }\n",
              "\n",
              "    .colab-df-buttons div {\n",
              "      margin-bottom: 4px;\n",
              "    }\n",
              "\n",
              "    [theme=dark] .colab-df-convert {\n",
              "      background-color: #3B4455;\n",
              "      fill: #D2E3FC;\n",
              "    }\n",
              "\n",
              "    [theme=dark] .colab-df-convert:hover {\n",
              "      background-color: #434B5C;\n",
              "      box-shadow: 0px 1px 3px 1px rgba(0, 0, 0, 0.15);\n",
              "      filter: drop-shadow(0px 1px 2px rgba(0, 0, 0, 0.3));\n",
              "      fill: #FFFFFF;\n",
              "    }\n",
              "  </style>\n",
              "\n",
              "    <script>\n",
              "      const buttonEl =\n",
              "        document.querySelector('#df-345db6bd-efac-4e9a-885d-977285aea1c7 button.colab-df-convert');\n",
              "      buttonEl.style.display =\n",
              "        google.colab.kernel.accessAllowed ? 'block' : 'none';\n",
              "\n",
              "      async function convertToInteractive(key) {\n",
              "        const element = document.querySelector('#df-345db6bd-efac-4e9a-885d-977285aea1c7');\n",
              "        const dataTable =\n",
              "          await google.colab.kernel.invokeFunction('convertToInteractive',\n",
              "                                                    [key], {});\n",
              "        if (!dataTable) return;\n",
              "\n",
              "        const docLinkHtml = 'Like what you see? Visit the ' +\n",
              "          '<a target=\"_blank\" href=https://colab.research.google.com/notebooks/data_table.ipynb>data table notebook</a>'\n",
              "          + ' to learn more about interactive tables.';\n",
              "        element.innerHTML = '';\n",
              "        dataTable['output_type'] = 'display_data';\n",
              "        await google.colab.output.renderOutput(dataTable, element);\n",
              "        const docLink = document.createElement('div');\n",
              "        docLink.innerHTML = docLinkHtml;\n",
              "        element.appendChild(docLink);\n",
              "      }\n",
              "    </script>\n",
              "  </div>\n",
              "\n",
              "\n",
              "<div id=\"df-dbb5f267-f3b1-46a5-ad15-fc672934f906\">\n",
              "  <button class=\"colab-df-quickchart\" onclick=\"quickchart('df-dbb5f267-f3b1-46a5-ad15-fc672934f906')\"\n",
              "            title=\"Suggest charts\"\n",
              "            style=\"display:none;\">\n",
              "\n",
              "<svg xmlns=\"http://www.w3.org/2000/svg\" height=\"24px\"viewBox=\"0 0 24 24\"\n",
              "     width=\"24px\">\n",
              "    <g>\n",
              "        <path d=\"M19 3H5c-1.1 0-2 .9-2 2v14c0 1.1.9 2 2 2h14c1.1 0 2-.9 2-2V5c0-1.1-.9-2-2-2zM9 17H7v-7h2v7zm4 0h-2V7h2v10zm4 0h-2v-4h2v4z\"/>\n",
              "    </g>\n",
              "</svg>\n",
              "  </button>\n",
              "\n",
              "<style>\n",
              "  .colab-df-quickchart {\n",
              "      --bg-color: #E8F0FE;\n",
              "      --fill-color: #1967D2;\n",
              "      --hover-bg-color: #E2EBFA;\n",
              "      --hover-fill-color: #174EA6;\n",
              "      --disabled-fill-color: #AAA;\n",
              "      --disabled-bg-color: #DDD;\n",
              "  }\n",
              "\n",
              "  [theme=dark] .colab-df-quickchart {\n",
              "      --bg-color: #3B4455;\n",
              "      --fill-color: #D2E3FC;\n",
              "      --hover-bg-color: #434B5C;\n",
              "      --hover-fill-color: #FFFFFF;\n",
              "      --disabled-bg-color: #3B4455;\n",
              "      --disabled-fill-color: #666;\n",
              "  }\n",
              "\n",
              "  .colab-df-quickchart {\n",
              "    background-color: var(--bg-color);\n",
              "    border: none;\n",
              "    border-radius: 50%;\n",
              "    cursor: pointer;\n",
              "    display: none;\n",
              "    fill: var(--fill-color);\n",
              "    height: 32px;\n",
              "    padding: 0;\n",
              "    width: 32px;\n",
              "  }\n",
              "\n",
              "  .colab-df-quickchart:hover {\n",
              "    background-color: var(--hover-bg-color);\n",
              "    box-shadow: 0 1px 2px rgba(60, 64, 67, 0.3), 0 1px 3px 1px rgba(60, 64, 67, 0.15);\n",
              "    fill: var(--button-hover-fill-color);\n",
              "  }\n",
              "\n",
              "  .colab-df-quickchart-complete:disabled,\n",
              "  .colab-df-quickchart-complete:disabled:hover {\n",
              "    background-color: var(--disabled-bg-color);\n",
              "    fill: var(--disabled-fill-color);\n",
              "    box-shadow: none;\n",
              "  }\n",
              "\n",
              "  .colab-df-spinner {\n",
              "    border: 2px solid var(--fill-color);\n",
              "    border-color: transparent;\n",
              "    border-bottom-color: var(--fill-color);\n",
              "    animation:\n",
              "      spin 1s steps(1) infinite;\n",
              "  }\n",
              "\n",
              "  @keyframes spin {\n",
              "    0% {\n",
              "      border-color: transparent;\n",
              "      border-bottom-color: var(--fill-color);\n",
              "      border-left-color: var(--fill-color);\n",
              "    }\n",
              "    20% {\n",
              "      border-color: transparent;\n",
              "      border-left-color: var(--fill-color);\n",
              "      border-top-color: var(--fill-color);\n",
              "    }\n",
              "    30% {\n",
              "      border-color: transparent;\n",
              "      border-left-color: var(--fill-color);\n",
              "      border-top-color: var(--fill-color);\n",
              "      border-right-color: var(--fill-color);\n",
              "    }\n",
              "    40% {\n",
              "      border-color: transparent;\n",
              "      border-right-color: var(--fill-color);\n",
              "      border-top-color: var(--fill-color);\n",
              "    }\n",
              "    60% {\n",
              "      border-color: transparent;\n",
              "      border-right-color: var(--fill-color);\n",
              "    }\n",
              "    80% {\n",
              "      border-color: transparent;\n",
              "      border-right-color: var(--fill-color);\n",
              "      border-bottom-color: var(--fill-color);\n",
              "    }\n",
              "    90% {\n",
              "      border-color: transparent;\n",
              "      border-bottom-color: var(--fill-color);\n",
              "    }\n",
              "  }\n",
              "</style>\n",
              "\n",
              "  <script>\n",
              "    async function quickchart(key) {\n",
              "      const quickchartButtonEl =\n",
              "        document.querySelector('#' + key + ' button');\n",
              "      quickchartButtonEl.disabled = true;  // To prevent multiple clicks.\n",
              "      quickchartButtonEl.classList.add('colab-df-spinner');\n",
              "      try {\n",
              "        const charts = await google.colab.kernel.invokeFunction(\n",
              "            'suggestCharts', [key], {});\n",
              "      } catch (error) {\n",
              "        console.error('Error during call to suggestCharts:', error);\n",
              "      }\n",
              "      quickchartButtonEl.classList.remove('colab-df-spinner');\n",
              "      quickchartButtonEl.classList.add('colab-df-quickchart-complete');\n",
              "    }\n",
              "    (() => {\n",
              "      let quickchartButtonEl =\n",
              "        document.querySelector('#df-dbb5f267-f3b1-46a5-ad15-fc672934f906 button');\n",
              "      quickchartButtonEl.style.display =\n",
              "        google.colab.kernel.accessAllowed ? 'block' : 'none';\n",
              "    })();\n",
              "  </script>\n",
              "</div>\n",
              "    </div>\n",
              "  </div>\n"
            ],
            "application/vnd.google.colaboratory.intrinsic+json": {
              "type": "dataframe",
              "variable_name": "recommendations_hb",
              "summary": "{\n  \"name\": \"recommendations_hb\",\n  \"rows\": 10,\n  \"fields\": [\n    {\n      \"column\": \"Title\",\n      \"properties\": {\n        \"dtype\": \"string\",\n        \"num_unique_values\": 10,\n        \"samples\": [\n          \"Heavy Metal 2000 (2000)\",\n          \"Alphaville (Alphaville, une \\u00e9trange aventure de Lemmy Caution) (1965)\",\n          \"Star Trek II: The Wrath of Khan (1982)\"\n        ],\n        \"semantic_type\": \"\",\n        \"description\": \"\"\n      }\n    },\n    {\n      \"column\": \"Predicted Rating\",\n      \"properties\": {\n        \"dtype\": \"number\",\n        \"std\": 0.11699242548044703,\n        \"min\": 4.53427892704701,\n        \"max\": 4.905276014109799,\n        \"num_unique_values\": 10,\n        \"samples\": [\n          4.54660852385406,\n          4.750341048566957,\n          4.574825259292066\n        ],\n        \"semantic_type\": \"\",\n        \"description\": \"\"\n      }\n    }\n  ]\n}"
            }
          },
          "metadata": {}
        }
      ]
    },
    {
      "cell_type": "code",
      "source": [
        "def get_actual_and_predicted_ratings(ratings, movies, model, user_id):\n",
        "    user_ratings = ratings[ratings['userId'] == user_id]\n",
        "    predictions = [(row['movieId'], row['rating'], model.predict(user_id, row['movieId']).est)\n",
        "                   for _, row in user_ratings.iterrows()]\n",
        "\n",
        "    actual_ratings = [rating for _, rating, _ in predictions]\n",
        "    predicted_ratings = [pred for _, _, pred in predictions]\n",
        "\n",
        "    return actual_ratings, predicted_ratings\n",
        "\n",
        "actual_ratings, predicted_ratings = get_actual_and_predicted_ratings(ratings, movies, svd_model, user_id)\n",
        "rmse, mae = calculate_metrics(actual_ratings, predicted_ratings)\n",
        "classification_metrics = calculate_classification_metrics(actual_ratings, predicted_ratings)\n",
        "\n",
        "print(f\"RMSE: {rmse:.4f}, MAE: {mae:.4f}\")\n",
        "print(f\"Precision: {classification_metrics['Precision']:.4f}, Recall: {classification_metrics['Recall']:.4f}, F1-Score: {classification_metrics['F1-Score']:.4f}\")"
      ],
      "metadata": {
        "colab": {
          "base_uri": "https://localhost:8080/"
        },
        "id": "mTurznR1SXIB",
        "outputId": "7917f0fd-c69e-4fa1-a242-dbcf264540ba"
      },
      "execution_count": null,
      "outputs": [
        {
          "output_type": "stream",
          "name": "stdout",
          "text": [
            "RMSE: 0.4949, MAE: 0.4120\n",
            "Precision: 0.8171, Recall: 1.0000, F1-Score: 0.8994\n"
          ]
        }
      ]
    },
    {
      "cell_type": "markdown",
      "source": [
        "#**Decision Tree**"
      ],
      "metadata": {
        "id": "1JmaA9caaWT2"
      }
    },
    {
      "cell_type": "code",
      "source": [
        "data = pd.merge(ratings, movies, on='movieId')\n",
        "data['like'] = (data['rating'] > 3.5).astype(int) # create a binary 'like' column based on rating threshold (3.5)\n",
        "\n",
        "features = data[['userId', 'movieId']] # selecting features and target variables\n",
        "target = data['like']\n",
        "\n",
        "encoder = LabelEncoder()  # encode categorical features (userId and movieId) using LabelEncoder\n",
        "features.loc[:, 'userId'] = encoder.fit_transform(features['userId'])\n",
        "features.loc[:, 'movieId'] = encoder.fit_transform(features['movieId'])\n",
        "\n",
        "\n",
        "X_train, X_test, y_train, y_test = train_test_split(features, target, test_size=0.2, random_state=42)\n"
      ],
      "metadata": {
        "id": "Tm_Exz1zXE_K"
      },
      "execution_count": null,
      "outputs": []
    },
    {
      "cell_type": "code",
      "source": [
        "dtree = DecisionTreeClassifier(max_depth=10, random_state=42) # train a Decision Tree Classifier\n",
        "\n",
        "dtree.fit(X_train, y_train)\n"
      ],
      "metadata": {
        "colab": {
          "base_uri": "https://localhost:8080/",
          "height": 75
        },
        "id": "VoNCmZcsXOFZ",
        "outputId": "3e938c78-b1b0-4044-cf76-3ba47806d097"
      },
      "execution_count": null,
      "outputs": [
        {
          "output_type": "execute_result",
          "data": {
            "text/plain": [
              "DecisionTreeClassifier(max_depth=10, random_state=42)"
            ],
            "text/html": [
              "<style>#sk-container-id-2 {color: black;background-color: white;}#sk-container-id-2 pre{padding: 0;}#sk-container-id-2 div.sk-toggleable {background-color: white;}#sk-container-id-2 label.sk-toggleable__label {cursor: pointer;display: block;width: 100%;margin-bottom: 0;padding: 0.3em;box-sizing: border-box;text-align: center;}#sk-container-id-2 label.sk-toggleable__label-arrow:before {content: \"▸\";float: left;margin-right: 0.25em;color: #696969;}#sk-container-id-2 label.sk-toggleable__label-arrow:hover:before {color: black;}#sk-container-id-2 div.sk-estimator:hover label.sk-toggleable__label-arrow:before {color: black;}#sk-container-id-2 div.sk-toggleable__content {max-height: 0;max-width: 0;overflow: hidden;text-align: left;background-color: #f0f8ff;}#sk-container-id-2 div.sk-toggleable__content pre {margin: 0.2em;color: black;border-radius: 0.25em;background-color: #f0f8ff;}#sk-container-id-2 input.sk-toggleable__control:checked~div.sk-toggleable__content {max-height: 200px;max-width: 100%;overflow: auto;}#sk-container-id-2 input.sk-toggleable__control:checked~label.sk-toggleable__label-arrow:before {content: \"▾\";}#sk-container-id-2 div.sk-estimator input.sk-toggleable__control:checked~label.sk-toggleable__label {background-color: #d4ebff;}#sk-container-id-2 div.sk-label input.sk-toggleable__control:checked~label.sk-toggleable__label {background-color: #d4ebff;}#sk-container-id-2 input.sk-hidden--visually {border: 0;clip: rect(1px 1px 1px 1px);clip: rect(1px, 1px, 1px, 1px);height: 1px;margin: -1px;overflow: hidden;padding: 0;position: absolute;width: 1px;}#sk-container-id-2 div.sk-estimator {font-family: monospace;background-color: #f0f8ff;border: 1px dotted black;border-radius: 0.25em;box-sizing: border-box;margin-bottom: 0.5em;}#sk-container-id-2 div.sk-estimator:hover {background-color: #d4ebff;}#sk-container-id-2 div.sk-parallel-item::after {content: \"\";width: 100%;border-bottom: 1px solid gray;flex-grow: 1;}#sk-container-id-2 div.sk-label:hover label.sk-toggleable__label {background-color: #d4ebff;}#sk-container-id-2 div.sk-serial::before {content: \"\";position: absolute;border-left: 1px solid gray;box-sizing: border-box;top: 0;bottom: 0;left: 50%;z-index: 0;}#sk-container-id-2 div.sk-serial {display: flex;flex-direction: column;align-items: center;background-color: white;padding-right: 0.2em;padding-left: 0.2em;position: relative;}#sk-container-id-2 div.sk-item {position: relative;z-index: 1;}#sk-container-id-2 div.sk-parallel {display: flex;align-items: stretch;justify-content: center;background-color: white;position: relative;}#sk-container-id-2 div.sk-item::before, #sk-container-id-2 div.sk-parallel-item::before {content: \"\";position: absolute;border-left: 1px solid gray;box-sizing: border-box;top: 0;bottom: 0;left: 50%;z-index: -1;}#sk-container-id-2 div.sk-parallel-item {display: flex;flex-direction: column;z-index: 1;position: relative;background-color: white;}#sk-container-id-2 div.sk-parallel-item:first-child::after {align-self: flex-end;width: 50%;}#sk-container-id-2 div.sk-parallel-item:last-child::after {align-self: flex-start;width: 50%;}#sk-container-id-2 div.sk-parallel-item:only-child::after {width: 0;}#sk-container-id-2 div.sk-dashed-wrapped {border: 1px dashed gray;margin: 0 0.4em 0.5em 0.4em;box-sizing: border-box;padding-bottom: 0.4em;background-color: white;}#sk-container-id-2 div.sk-label label {font-family: monospace;font-weight: bold;display: inline-block;line-height: 1.2em;}#sk-container-id-2 div.sk-label-container {text-align: center;}#sk-container-id-2 div.sk-container {/* jupyter's `normalize.less` sets `[hidden] { display: none; }` but bootstrap.min.css set `[hidden] { display: none !important; }` so we also need the `!important` here to be able to override the default hidden behavior on the sphinx rendered scikit-learn.org. See: https://github.com/scikit-learn/scikit-learn/issues/21755 */display: inline-block !important;position: relative;}#sk-container-id-2 div.sk-text-repr-fallback {display: none;}</style><div id=\"sk-container-id-2\" class=\"sk-top-container\"><div class=\"sk-text-repr-fallback\"><pre>DecisionTreeClassifier(max_depth=10, random_state=42)</pre><b>In a Jupyter environment, please rerun this cell to show the HTML representation or trust the notebook. <br />On GitHub, the HTML representation is unable to render, please try loading this page with nbviewer.org.</b></div><div class=\"sk-container\" hidden><div class=\"sk-item\"><div class=\"sk-estimator sk-toggleable\"><input class=\"sk-toggleable__control sk-hidden--visually\" id=\"sk-estimator-id-2\" type=\"checkbox\" checked><label for=\"sk-estimator-id-2\" class=\"sk-toggleable__label sk-toggleable__label-arrow\">DecisionTreeClassifier</label><div class=\"sk-toggleable__content\"><pre>DecisionTreeClassifier(max_depth=10, random_state=42)</pre></div></div></div></div></div>"
            ]
          },
          "metadata": {},
          "execution_count": 171
        }
      ]
    },
    {
      "cell_type": "code",
      "source": [
        "y_pred = dtree.predict(X_test) # making predictions on the test set\n",
        "print(\"Accuracy:\", accuracy_score(y_test, y_pred))\n"
      ],
      "metadata": {
        "colab": {
          "base_uri": "https://localhost:8080/"
        },
        "id": "z3z1Q6EjXPd5",
        "outputId": "127732ab-1cac-484e-9f40-9e0d27ab18dd"
      },
      "execution_count": null,
      "outputs": [
        {
          "output_type": "stream",
          "name": "stdout",
          "text": [
            "Accuracy: 0.6239577129243598\n"
          ]
        }
      ]
    },
    {
      "cell_type": "code",
      "source": [
        "def recommend_movies(model, user_id, movie_data, N=10):\n",
        "    unseen_movies = movie_data[~movie_data['movieId'].isin(ratings[ratings['userId'] == user_id]['movieId'])].copy()\n",
        "    unseen_movies['userId'] = user_id\n",
        "\n",
        "    unseen_movies['like_probability'] = model.predict_proba(unseen_movies[['userId', 'movieId']])[:, 1] # predict probabilities of liking for unseen movies\n",
        "\n",
        "    recommendations = unseen_movies.sort_values('like_probability', ascending=False).head(N)\n",
        "    return recommendations\n",
        "\n",
        "user_id = 92\n",
        "recommended_movies = recommend_movies(dtree, user_id, movies)\n",
        "print(recommended_movies[['title', 'like_probability']])\n"
      ],
      "metadata": {
        "colab": {
          "base_uri": "https://localhost:8080/"
        },
        "id": "eG0abQrBXRQm",
        "outputId": "3801fad0-e2f5-444d-a99f-4d57e51e1789"
      },
      "execution_count": null,
      "outputs": [
        {
          "output_type": "stream",
          "name": "stdout",
          "text": [
            "                                                  title  like_probability\n",
            "264                                    Roommates (1995)          1.000000\n",
            "551                    James and the Giant Peach (1996)          1.000000\n",
            "265                Ready to Wear (Pret-A-Porter) (1994)          1.000000\n",
            "552                                         Fear (1996)          1.000000\n",
            "553                Kids in the Hall: Brain Candy (1996)          1.000000\n",
            "597                                      Thinner (1996)          1.000000\n",
            "266    Three Colors: Red (Trois couleurs: Rouge) (1994)          1.000000\n",
            "563   Alphaville (Alphaville, une étrange aventure d...          0.878049\n",
            "562                      Run of the Country, The (1995)          0.878049\n",
            "6528                                     Hot Rod (2007)          0.873684\n"
          ]
        }
      ]
    },
    {
      "cell_type": "code",
      "source": [
        "rmse = sqrt(mean_squared_error(y_test, y_pred))\n",
        "mae = mean_absolute_error(y_test, y_pred)\n",
        "\n",
        "print(\"RMSE:\", rmse)\n",
        "print(\"MAE:\", mae)\n"
      ],
      "metadata": {
        "colab": {
          "base_uri": "https://localhost:8080/"
        },
        "id": "c-ggx2ZjXZ_3",
        "outputId": "75626cb3-a447-4cfd-8491-6b5d068c72f2"
      },
      "execution_count": null,
      "outputs": [
        {
          "output_type": "stream",
          "name": "stdout",
          "text": [
            "RMSE: 0.613222869009009\n",
            "MAE: 0.37604228707564025\n"
          ]
        }
      ]
    },
    {
      "cell_type": "code",
      "source": [
        "precision = precision_score(y_test, y_pred)\n",
        "recall = recall_score(y_test, y_pred)\n",
        "f1 = f1_score(y_test, y_pred)\n",
        "\n",
        "print(\"Precision:\", precision)\n",
        "print(\"Recall:\", recall)\n",
        "print(\"F1-Score:\", f1)\n"
      ],
      "metadata": {
        "colab": {
          "base_uri": "https://localhost:8080/"
        },
        "id": "c8RG_Oq1X0_M",
        "outputId": "e3e88570-282c-47a9-deca-577e195e711d"
      },
      "execution_count": null,
      "outputs": [
        {
          "output_type": "stream",
          "name": "stdout",
          "text": [
            "Precision: 0.6297650130548302\n",
            "Recall: 0.5530418832161419\n",
            "F1-Score: 0.5889151135346301\n"
          ]
        }
      ]
    },
    {
      "cell_type": "code",
      "source": [
        "conf_matrix = confusion_matrix(y_test, y_pred)\n",
        "plt.figure(figsize=(8, 6))\n",
        "sns.heatmap(conf_matrix, annot=True, fmt=\"d\", cmap=\"Blues\",\n",
        "            xticklabels=['Not Liked', 'Liked'], yticklabels=['Not Liked', 'Liked'])\n",
        "plt.xlabel('Predicted')\n",
        "plt.ylabel('Actual')\n",
        "plt.title('Confusion Matrix')\n",
        "plt.show()"
      ],
      "metadata": {
        "colab": {
          "base_uri": "https://localhost:8080/",
          "height": 564
        },
        "id": "9BkRsIOYabrd",
        "outputId": "e837539c-5539-4ab0-e400-a3b0d6d3ec15"
      },
      "execution_count": null,
      "outputs": [
        {
          "output_type": "display_data",
          "data": {
            "text/plain": [
              "<Figure size 800x600 with 2 Axes>"
            ],
            "image/png": "[encoded data removed]"
          },
          "metadata": {}
        }
      ]
    },
    {
      "cell_type": "markdown",
      "source": [
        "#**Comparison of Evaluation**\n",
        "\n",
        "---"
      ],
      "metadata": {
        "id": "ve0d7Xi6b-OQ"
      }
    },
    {
      "cell_type": "code",
      "source": [
        "models = ['Cosine', 'SVD', 'NCF', 'KNN', 'RNN', 'Hybrid', 'Decision Tree']\n",
        "rmse_values = [0.7901, 0.8743, 0.9080, 0.4425, 0.8837, 0.4949, 0.6132]\n",
        "mae_values = [0.7125, 0.6698, 0.6882, 0.3622, 0.6767, 0.4120, 0.3760]\n",
        "\n",
        "fig, ax = plt.subplots(figsize=(10, 5))\n",
        "index = np.arange(len(models))\n",
        "bar_width = 0.30\n",
        "ax.bar(index, rmse_values, bar_width, label='RMSE', color='royalblue')\n",
        "ax.bar(index + bar_width, mae_values, bar_width, label='MAE', color='seagreen')\n",
        "ax.set_xticks(index + bar_width / 2)\n",
        "ax.set_xticklabels(models)\n",
        "ax.legend()\n",
        "plt.show()\n"
      ],
      "metadata": {
        "colab": {
          "base_uri": "https://localhost:8080/",
          "height": 445
        },
        "id": "Yt0wCnCkt9oQ",
        "outputId": "46dc942a-1029-4b9f-a7ae-0b27ef8799f8"
      },
      "execution_count": null,
      "outputs": [
        {
          "output_type": "display_data",
          "data": {
            "text/plain": [
              "<Figure size 1000x500 with 1 Axes>"
            ],
            "image/png": "[encoded data removed]"
          },
          "metadata": {}
        }
      ]
    },
    {
      "cell_type": "code",
      "source": [
        "metrics_data = {\n",
        "    'Method': models,\n",
        "    'Precision': [0.8571, 0.6740, 0.6500, 0.3696, 0.6675, 0.8171, 0.6297],\n",
        "    'Recall': [1.000, 0.7330, 0.7791, 1.0, 0.7582, 1.000, 0.5530],\n",
        "    'F1 Score': [0.9231, 0.7022, 0.7087, 0.5398, 0.7100, 0.8994, 0.5889]\n",
        "}\n",
        "\n",
        "df = pd.DataFrame(metrics_data)\n",
        "fig, ax = plt.subplots(figsize=(15, 8))\n",
        "colors = ['#3498db', '#e74c3c', '#f39c12']\n",
        "\n",
        "for i, col in enumerate(['Precision', 'Recall', 'F1 Score']):\n",
        "    ax.bar(index + i * bar_width, df[col], bar_width, label=col, color=colors[i])\n",
        "ax.set_xticks(index + bar_width)\n",
        "ax.set_xticklabels(df['Method'])\n",
        "ax.legend()\n",
        "plt.show()\n"
      ],
      "metadata": {
        "colab": {
          "base_uri": "https://localhost:8080/",
          "height": 676
        },
        "id": "vozph9woubqT",
        "outputId": "bbe6468a-4ee9-4c6f-ec49-2815bd182643"
      },
      "execution_count": null,
      "outputs": [
        {
          "output_type": "display_data",
          "data": {
            "text/plain": [
              "<Figure size 1500x800 with 1 Axes>"
            ],
            "image/png": "[encoded data removed]"
          },
          "metadata": {}
        }
      ]
    },
    {
      "cell_type": "code",
      "source": [
        "training_sizes = np.linspace(0.1, 1.0, 20)\n",
        "learning_curves = {model: base_rmse / np.sqrt(training_sizes) for model, base_rmse in zip(models, rmse_values)}\n",
        "fig, ax = plt.subplots(figsize=(12, 8))\n",
        "ax.set_title('Learning Curves for Each Recommendation Model', fontsize=16)\n",
        "ax.set_xlabel('Training Set Size', fontsize=12)\n",
        "for model, values in learning_curves.items():\n",
        "    ax.plot(training_sizes, values, marker='o', label=model)\n",
        "ax.legend()\n",
        "plt.show()"
      ],
      "metadata": {
        "colab": {
          "base_uri": "https://localhost:8080/",
          "height": 724
        },
        "id": "3mE5eejfuk0h",
        "outputId": "165174fc-cacf-4efe-9367-37a6fa57771b"
      },
      "execution_count": null,
      "outputs": [
        {
          "output_type": "display_data",
          "data": {
            "text/plain": [
              "<Figure size 1200x800 with 1 Axes>"
            ],
            "image/png": "[encoded data removed]"
          },
          "metadata": {}
        }
      ]
    }
  ]
}